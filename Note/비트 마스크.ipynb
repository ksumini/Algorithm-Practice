{
 "cells": [
  {
   "cell_type": "markdown",
   "metadata": {},
   "source": [
    "# 비트마스크(BitMask)\n",
    "- 비트마스크(BitMask)는 이진수를 사용하는 컴퓨터의 연산 방식을 이용하여, **정수의 이진수 표현을 자료 구조로 쓰는 기법**을 말한다. \n",
    "\n",
    " \n",
    "\n",
    "- 이진수는 0 또는 1을 이용하므로 하나의 비트(bit)가 표현할 수 있는 경우는 두 가지이다. \n",
    "\n",
    " \n",
    "\n",
    "- 보통 어떤 비트가 1이면 <u>\"켜져 있다\"</u>라고 말하며, 0이면 <u>\"꺼져 있다\"</u>라고 말한다.  \n",
    "\n",
    "\n",
    "- 비트(bit) 연산을 사용해서 부분 집합을 표현할 수 있다."
   ]
  },
  {
   "attachments": {
    "image.png": {
     "image/png": "[encoded data removed]"
    }
   },
   "cell_type": "markdown",
   "metadata": {},
   "source": [
    "# 비트 연산(Bitwise operation)\n",
    "![image.png](attachment:image.png)"
   ]
  },
  {
   "cell_type": "markdown",
   "metadata": {},
   "source": [
    "## AND 연산(&)"
   ]
  },
  {
   "cell_type": "markdown",
   "metadata": {},
   "source": [
    "C = A & B는\n",
    "A와 B를 가장 뒤의 자리부터 한 bit씩 비교하면서 해당 비트가 **둘 다 켜져있는 경우**에만 C의 해당 비트를 켠다"
   ]
  },
  {
   "cell_type": "code",
   "execution_count": 5,
   "metadata": {},
   "outputs": [
    {
     "name": "stdout",
     "output_type": "stream",
     "text": [
      "19 0b10011\n"
     ]
    }
   ],
   "source": [
    "# A = 27(11011), B = 83(1010011)\n",
    "A = 27; B = 83\n",
    "print(A & B, bin(A & B))"
   ]
  },
  {
   "cell_type": "markdown",
   "metadata": {},
   "source": [
    "## OR 연산(|)"
   ]
  },
  {
   "cell_type": "markdown",
   "metadata": {},
   "source": [
    "C = A | B는 A와 B를 가장 뒤의 자리부터 한 bit씩 비교하면서 해당 비트가 **둘 중 하나라도 켜져있는 경우**에만 C의 해당 비트를 켠다"
   ]
  },
  {
   "cell_type": "code",
   "execution_count": 6,
   "metadata": {},
   "outputs": [
    {
     "name": "stdout",
     "output_type": "stream",
     "text": [
      "91 0b1011011\n"
     ]
    }
   ],
   "source": [
    "# A = 27(11011), B = 83(1010011)\n",
    "A = 27; B = 83\n",
    "print(A | B, bin(A | B))"
   ]
  },
  {
   "cell_type": "markdown",
   "metadata": {},
   "source": [
    "## XOR 연산(^)"
   ]
  },
  {
   "cell_type": "markdown",
   "metadata": {},
   "source": [
    "C = A ^ B는\n",
    "A와 B를 가장 뒤의 자리부터 한 bit씩 비교하면서 해당 비트가 **둘 중 하나만 켜져 있는 경우(서로 다른 경우)**에만 C의 해당 비트를 켠다"
   ]
  },
  {
   "cell_type": "code",
   "execution_count": 7,
   "metadata": {},
   "outputs": [
    {
     "name": "stdout",
     "output_type": "stream",
     "text": [
      "72 0b1001000\n"
     ]
    }
   ],
   "source": [
    "# A = 27(11011), B = 83(1010011)\n",
    "A = 27; B = 83\n",
    "print(A ^ B, bin(A ^ B))"
   ]
  },
  {
   "cell_type": "markdown",
   "metadata": {},
   "source": [
    "## NOT 연산(~)"
   ]
  },
  {
   "cell_type": "markdown",
   "metadata": {},
   "source": [
    "비트 하나에 적용하는 것으로 **켜져 있는 비트는 끄고, 꺼져 있는 비트는 켠 결과**를 반환한다. NOT 연산의 경우, 자료형에 따라 결과가 달라진다. 또, unsgined, signed에 따라서 보여지는 값은 다르다.    \n",
    "\n",
    "\n",
    "https://stackoverflow.com/questions/4295578/explanation-of-bitwise-not-operator\n",
    "https://www.codeit.kr/community/threads/10379\n",
    "https://blog.naver.com/PostView.nhn?blogId=dlscjs8646&logNo=222087018882"
   ]
  },
  {
   "cell_type": "code",
   "execution_count": 44,
   "metadata": {},
   "outputs": [
    {
     "name": "stdout",
     "output_type": "stream",
     "text": [
      "-28 -0b11100\n"
     ]
    }
   ],
   "source": [
    "# A = 27(11011)\n",
    "A = 27\n",
    "print(~A, bin(~A))"
   ]
  },
  {
   "cell_type": "markdown",
   "metadata": {},
   "source": [
    "## Shift 연산(<<, >>)\n",
    "시프트 연산자는 정수 A의 **비트들을 왼쪽 or 오른쪽으로 원하는 만큼 움직인다.** 움직이고 나서 빈자리는 0으로 채워지게 된다.\n",
    "- A << B는 $A * 2^B$\n",
    "- A >> B는 $A // 2^B$"
   ]
  },
  {
   "cell_type": "code",
   "execution_count": 49,
   "metadata": {},
   "outputs": [
    {
     "name": "stdout",
     "output_type": "stream",
     "text": [
      "1\n",
      "2\n",
      "4\n",
      "8\n",
      "16\n",
      "24\n",
      "5120\n"
     ]
    }
   ],
   "source": [
    "# A << B (A를 왼쪽으로 B비트만큼 민다.)\n",
    "print(1 << 0)\n",
    "print(1 << 1)\n",
    "print(1 << 2)\n",
    "print(1 << 3)\n",
    "print(1 << 4)\n",
    "print(3 << 3)\n",
    "print(5 << 10)"
   ]
  },
  {
   "cell_type": "code",
   "execution_count": 50,
   "metadata": {},
   "outputs": [
    {
     "name": "stdout",
     "output_type": "stream",
     "text": [
      "1\n",
      "0\n",
      "5\n",
      "2\n",
      "1\n",
      "15\n",
      "1\n"
     ]
    }
   ],
   "source": [
    "# A >> B (A를 오른쪽으로 B비트만큼 민다.)\n",
    "print(1 >> 0)\n",
    "print(1 >> 1)\n",
    "print(10 >> 1)\n",
    "print(10 >> 2)\n",
    "print(10 >> 3)\n",
    "print(30 >> 1)\n",
    "print(1024 >> 10)"
   ]
  },
  {
   "cell_type": "markdown",
   "metadata": {},
   "source": [
    "# 비트마스크를 이용한 집합 구현"
   ]
  },
  {
   "cell_type": "markdown",
   "metadata": {},
   "source": [
    "정수로 집합을 나타낼 수 있다."
   ]
  },
  {
   "cell_type": "markdown",
   "metadata": {},
   "source": [
    "집합 A = {1, 3, 4, 5, 9}라면, 집합에는 중복되는 수가 존재하지 않기 때문에 없으면 0, 있으면 1로 표현할 수 있다.\\\n",
    "정수:   0 1 2 3 4 5 6 7 8 9   \n",
    "존재:   X O X O O O X X X O    \n",
    "이진수: 0 1 0 1 1 1 0 0 0 1    \n",
    "\n",
    "즉, 이진수 1000111010으로 십진법 2^9 + 2^5 + 2^4 + 2^3 + 2^1과 같다"
   ]
  },
  {
   "cell_type": "markdown",
   "metadata": {},
   "source": [
    "- 보통 0부터 N-1까지 정수로 이루어진 집합을 나타낼 때 사용한다.\n",
    "- 1부터 N까지 정수로 이루어진 집합을 사용하는 건 공간이 2배 더 필요하다.\n",
    "- 따라서, 0부터 N-1까지로 변형해서 사용하는 것이 더 좋다.\n",
    "\n",
    "- 전체 집합: (1 << N) -1\n",
    "- 공집합: 0"
   ]
  },
  {
   "cell_type": "markdown",
   "metadata": {},
   "source": [
    "# 시간복잡도\n",
    "검사, 추가, 삭제 모두 O(1)"
   ]
  },
  {
   "cell_type": "markdown",
   "metadata": {},
   "source": [
    "## 검사\n",
    "집합 S에 X가 있는지 검사: 해당 비트만 1로 만들어주고 **AND연산**을 사용한다.\\\n",
    "**S & (1 << X)**의 결과가 0이라면 없음, 1 << X(0이 아니면)이면 있음\\\n",
    "**(S >> X) & 1**의 결과가 0인지 1인지로도 X의 여부를 확인할 수 있다."
   ]
  },
  {
   "cell_type": "code",
   "execution_count": 54,
   "metadata": {},
   "outputs": [
    {
     "name": "stdout",
     "output_type": "stream",
     "text": [
      "0\n",
      "2\n",
      "0\n",
      "8\n"
     ]
    }
   ],
   "source": [
    "s = {1, 3, 4, 5, 9} # 570 <- 0b1000111010\n",
    "\n",
    "# 0이 포함되어 있는지 검사 (570 & 2^0)\n",
    "print(570 & 1 << 0)\n",
    "# 1이 포함되어 있는지 검사 (570 & 2^1)\n",
    "print(570 & 1 << 1)\n",
    "# 2가 포함되어 있는지 검사 (570 & 2^2)\n",
    "print(570 & 1 << 2)\n",
    "# 3이 포함되어 있는지 검사 (570 & 2^3)\n",
    "print(570 & 1 << 3)"
   ]
  },
  {
   "cell_type": "markdown",
   "metadata": {},
   "source": [
    "## 추가\n",
    "집합 S에 X를 추가(S의 X번째 비트를 1로 변경): 해당 비트만 1로 만들어주고 **OR연산**을 사용한다.\\\n",
    "**S | (1 << X)** 이미 수가 있는 경우 무시된다."
   ]
  },
  {
   "cell_type": "code",
   "execution_count": 57,
   "metadata": {},
   "outputs": [
    {
     "name": "stdout",
     "output_type": "stream",
     "text": [
      "570\n",
      "574\n",
      "570\n",
      "570\n"
     ]
    }
   ],
   "source": [
    "s = {1, 3, 4, 5, 9} # 570 <- 0b1000111010\n",
    "\n",
    "# 1 추가하기 (570 | 2^1)\n",
    "print(570 | 1 << 1)\n",
    "# 2 추가하기 (570 | 2^2)\n",
    "print(570 | 1 << 2)\n",
    "# 3 추가하기 (570 | 2^3)\n",
    "print(570 | 1 << 3)\n",
    "# 4 추가하기 (570 | 2^4)\n",
    "print(570 | 1 << 4)"
   ]
  },
  {
   "cell_type": "markdown",
   "metadata": {},
   "source": [
    "## 삭제\n",
    "집합 S에서 X를 제거(S의 X번째 비트를 0으로 변경): 해당 비트만 0으로 만들어주고 **AND연산**을 사용한다. \\\n",
    "**S&~(1<<X)** 없는 수를 제거 하려고 하는 경우 무시됨"
   ]
  },
  {
   "cell_type": "code",
   "execution_count": 58,
   "metadata": {},
   "outputs": [
    {
     "name": "stdout",
     "output_type": "stream",
     "text": [
      "568\n",
      "570\n",
      "562\n",
      "554\n"
     ]
    }
   ],
   "source": [
    "s = {1, 3, 4, 5, 9} # 570 <- 0b1000111010\n",
    "\n",
    "# 1 제거하기 (570 | 2^1)\n",
    "print(570 & ~(1 << 1))\n",
    "# 2 제거하기 (570 | 2^2)\n",
    "print(570 & ~(1 << 2))\n",
    "# 3 제거하기 (570 | 2^3)\n",
    "print(570 & ~(1 << 3))\n",
    "# 4 제거하기 (570 | 2^4)\n",
    "print(570 & ~(1 << 4))"
   ]
  },
  {
   "cell_type": "markdown",
   "metadata": {},
   "source": [
    "## 토글\n",
    "집합 S에서 X를 0이면 1, 1이면 0으로 토글: 해당 비트만 1로 만들어주고 **XOR**연산을 사용한다. \\\n",
    "**S^(1<<X)**"
   ]
  },
  {
   "cell_type": "code",
   "execution_count": 66,
   "metadata": {},
   "outputs": [
    {
     "name": "stdout",
     "output_type": "stream",
     "text": [
      "570\n",
      "574\n",
      "570\n",
      "570\n"
     ]
    }
   ],
   "source": [
    "s = {1, 3, 4, 5, 9} # 570 <- 0b1000111010\n",
    "\n",
    "# 1 토글하기 (570 ^ 2^1)\n",
    "print(570 | (1 << 1))\n",
    "# 2 토글하기 (570 ^ 2^2)\n",
    "print(570 | (1 << 2))\n",
    "# 3 토글하기 (570 ^ 2^3)\n",
    "print(570 | (1 << 3))\n",
    "# 4 토글하기 (570 ^ 2^4)\n",
    "print(570 | (1 << 4))"
   ]
  },
  {
   "cell_type": "code",
   "execution_count": null,
   "metadata": {},
   "outputs": [],
   "source": []
  }
 ],
 "metadata": {
  "kernelspec": {
   "display_name": "Python 3",
   "language": "python",
   "name": "python3"
  },
  "language_info": {
   "codemirror_mode": {
    "name": "ipython",
    "version": 3
   },
   "file_extension": ".py",
   "mimetype": "text/x-python",
   "name": "python",
   "nbconvert_exporter": "python",
   "pygments_lexer": "ipython3",
   "version": "3.8.3"
  },
  "toc": {
   "base_numbering": 1,
   "nav_menu": {},
   "number_sections": true,
   "sideBar": true,
   "skip_h1_title": false,
   "title_cell": "Table of Contents",
   "title_sidebar": "Contents",
   "toc_cell": false,
   "toc_position": {},
   "toc_section_display": true,
   "toc_window_display": false
  }
 },
 "nbformat": 4,
 "nbformat_minor": 4
}
