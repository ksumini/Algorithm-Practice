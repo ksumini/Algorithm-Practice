{
 "cells": [
  {
   "cell_type": "markdown",
   "id": "fdec2321",
   "metadata": {},
   "source": [
    "# 트라이(Trie)"
   ]
  },
  {
   "cell_type": "markdown",
   "id": "eed2c6db",
   "metadata": {},
   "source": [
    "- 검색 트리의 일종으로 일반적으로 키가 문자열인, 동적 배열 또는 연관 배열을 저장하는 데 사용되는 정렬된 **트리 자료구조**\n",
    "- 전형적인 다진 트리(m-ary Tree) 형태를 띤다.\n",
    "- 자연어 처리(NLP) 분야에서 문자열 탐색을 위한 자료구조로 자주 사용된다.\n",
    "- 각 문자열의 길이만큼만 탐색하면 원하는 결과를 찾을 수 있다."
   ]
  },
  {
   "cell_type": "markdown",
   "id": "b3402fe0",
   "metadata": {},
   "source": [
    "**시간복잡도**\n",
    "- 트라이: 삽입, 탐색, 삭제 모두 정직하게 $ O(|S|) $에 동작한다.\n",
    "- 이진 검색 트리: $ O(|S| * logN) $\n",
    "- 해시: $ O(|S|) $ <- 모두 O(1)인 것 같지만, 해시 값을 계산할 때 $ O(|S|) $이 필요하기도 하고, 문자열간의 비교도 발생하기 때문에\n",
    "    - 단, 해시는 이론적으로 $ O(|S|) $지만 실제로는 충돌에 따라 성능이 저하될 수 있다."
   ]
  },
  {
   "cell_type": "markdown",
   "id": "a764f3f7",
   "metadata": {},
   "source": [
    "- 이론적인 시간복잡도와는 별개로 실제로 <u>트라이가 해시, 이진 검색 트리에 비해 훨씬 느리다</u>. 일반적인 상황에서는 해시나 이진 검색 트리를 사용하는게 좋으나 트라이의 성질을 사용해야 하는 문제가 여럿 존재한다."
   ]
  },
  {
   "cell_type": "markdown",
   "id": "6b1934b1",
   "metadata": {},
   "source": [
    "**공간복잡도**\n",
    "- 좋은 시간복잡도를 가지고 있지만, 트라이는 메모리를 아주 많이 차지한다."
   ]
  },
  {
   "cell_type": "markdown",
   "id": "23904ea6",
   "metadata": {},
   "source": [
    "# 기능과 구현"
   ]
  },
  {
   "cell_type": "code",
   "execution_count": 97,
   "id": "ec5ecd17",
   "metadata": {},
   "outputs": [],
   "source": [
    "root = 1 # 루트는 1로 고정, 새로 정점이 추가될 때마다 2,3,4 순으로 번호 부여\n",
    "unused = 2\n",
    "mx = 10000 * 500 + 5 # 최대 등장 가능한 글자의 수(길이가 최대 500인 문자열이 10000개 들어오는 문제)\n",
    "chk = [False] * mx # 해당 정점이 문자열의 끝인지 여부를 저장하는 배열\n",
    "nxt = [[-1] * 26 for _ in range(mx)] # 각 정점에서 자식 정점의 번호(알파벳의 개수 26개), -1: 해당 자식의 정점이 없음"
   ]
  },
  {
   "cell_type": "code",
   "execution_count": 106,
   "id": "b04d4c8d",
   "metadata": {},
   "outputs": [],
   "source": [
    "def c2i(c):\n",
    "    return ord(c) - 97"
   ]
  },
  {
   "cell_type": "code",
   "execution_count": 107,
   "id": "8c5ec225",
   "metadata": {},
   "outputs": [],
   "source": [
    "# insert 함수\n",
    "def insert(s):\n",
    "    global unused\n",
    "    cur = root # 현재 보고 있는 정점\n",
    "    for c in s:\n",
    "        if nxt[cur][c2i(c)] == -1: # 자식 정점이 없음\n",
    "            nxt[cur][c2i(c)] = unused # 새로운 정점 번호 부여\n",
    "            unused += 1\n",
    "        cur = nxt[cur][c2i(c)] # 현재 보고 있는 정점을 옮김\n",
    "    chk[cur] = True"
   ]
  },
  {
   "cell_type": "code",
   "execution_count": 115,
   "id": "aaa3d598",
   "metadata": {},
   "outputs": [],
   "source": [
    "# find 함수\n",
    "def find(s):\n",
    "    cur = root\n",
    "    for c in s:\n",
    "        if nxt[cur][c2i(c)] == -1: # 존재하지 않는 자식 정점을 만나면 바로 False 반환\n",
    "            return 0\n",
    "        cur = nxt[cur][c2i(c)]\n",
    "    return 1 # chk[cur]"
   ]
  },
  {
   "cell_type": "code",
   "execution_count": 109,
   "id": "a6bcc516",
   "metadata": {},
   "outputs": [],
   "source": [
    "# erase 함수\n",
    "def erase(s):\n",
    "    cur = root\n",
    "    for c in s:\n",
    "        if nxt[cur][c2i(c)] == -1: # 존재하지 않는 자식 정점을 만남 -> s가 트라이에 없음\n",
    "            return # 종료\n",
    "        cur = nxt[cur][c2i(c)]\n",
    "    chk[cur] = False"
   ]
  },
  {
   "cell_type": "markdown",
   "id": "37a693ef",
   "metadata": {},
   "source": [
    "---"
   ]
  },
  {
   "cell_type": "markdown",
   "id": "d42076d6",
   "metadata": {},
   "source": [
    "# 객제지향으로 구현한 트라이"
   ]
  },
  {
   "cell_type": "code",
   "execution_count": 117,
   "id": "0924046c",
   "metadata": {},
   "outputs": [],
   "source": [
    "class TrieNode:  # 트라이를 저장할 노드\n",
    "    def __init__(self):\n",
    "        self.word = False\n",
    "        self.children = {}\n",
    "\n",
    "class Trie:\n",
    "\n",
    "    def __init__(self):\n",
    "        self.root = TrieNode() # 루트\n",
    "\n",
    "    def insert(self, word: str) -> None: # 삽입 메소드\n",
    "        node = self.root # 루트노드부터 자식 노드가 점점 깊어지면서 문자 단위의 다진 트리 형태\n",
    "        for char in word:\n",
    "            if char not in node.children:\n",
    "                node.children[char] = TrieNode()\n",
    "            node = node.children[char]\n",
    "        node.word = True\n",
    "\n",
    "    def search(self, word: str) -> bool: # 단어 존재 여부 판별 메소드\n",
    "        node = self.root\n",
    "        for char in word:\n",
    "            if char not in node.children:\n",
    "                return False\n",
    "            node = node.children[char]\n",
    "        \n",
    "        return node.word # 마지막에 word가 True라면 단어가 존재\n",
    "\n",
    "    def startsWith(self, prefix: str) -> bool: # 해당 문자열로 시작하는 단어가 존재하는지 여부 판별 메소드(접두사)\n",
    "        node = self.root\n",
    "        for char in prefix:\n",
    "            if char not in node.children:\n",
    "                return False\n",
    "            node = node.children[char]\n",
    "        \n",
    "        return True # node.word를 확인하지 않고, 자식 노드가 존재하는 지 여부만 판별한다."
   ]
  },
  {
   "cell_type": "markdown",
   "id": "3a37b20b",
   "metadata": {},
   "source": [
    "# 연습문제\n",
    "- https://www.acmicpc.net/problem/14425\n",
    "- https://www.acmicpc.net/problem/14426"
   ]
  },
  {
   "cell_type": "code",
   "execution_count": 119,
   "id": "c1f00863",
   "metadata": {},
   "outputs": [
    {
     "name": "stdout",
     "output_type": "stream",
     "text": [
      "5 11\n",
      "baekjoononlinejudge\n",
      "startlink\n",
      "codeplus\n",
      "sundaycoding\n",
      "codingsh\n",
      "baekjoon\n",
      "codeplus\n",
      "codeminus\n",
      "startlink\n",
      "starlink\n",
      "sundaycoding\n",
      "codingsh\n",
      "codinghs\n",
      "sondaycoding\n",
      "startrink\n",
      "icerink\n",
      "4\n"
     ]
    }
   ],
   "source": [
    "# BOJ 14425\n",
    "t = Trie()\n",
    "\n",
    "n, m = map(int, input().split())\n",
    "for _ in range(n):\n",
    "    s = input()\n",
    "    t.insert(s)\n",
    "\n",
    "ans = 0\n",
    "for _ in range(m):\n",
    "    word = input()\n",
    "    ans += t.search(word)\n",
    "\n",
    "print(ans)"
   ]
  },
  {
   "cell_type": "code",
   "execution_count": 120,
   "id": "97996a88",
   "metadata": {
    "scrolled": true
   },
   "outputs": [
    {
     "name": "stdout",
     "output_type": "stream",
     "text": [
      "5 10\n",
      "baekjoononlinejudge\n",
      "startlink\n",
      "codeplus\n",
      "sundaycoding\n",
      "codingsh\n",
      "baekjoon\n",
      "star\n",
      "start\n",
      "code\n",
      "sunday\n",
      "coding\n",
      "cod\n",
      "online\n",
      "judge\n",
      "plus\n",
      "7\n"
     ]
    }
   ],
   "source": [
    "# BOJ 14426\n",
    "t = Trie()\n",
    "\n",
    "n, m = map(int, input().split())\n",
    "for _ in range(n):\n",
    "    s = input().rstrip()\n",
    "    t.insert(s)\n",
    "\n",
    "ans = 0\n",
    "for _ in range(m):\n",
    "    word = input().rstrip()\n",
    "    ans += t.startsWith(word)\n",
    "\n",
    "print(ans)"
   ]
  },
  {
   "cell_type": "markdown",
   "id": "5ebb504a",
   "metadata": {},
   "source": [
    "> 참고: https://blog.encrypted.gg/1059"
   ]
  }
 ],
 "metadata": {
  "kernelspec": {
   "display_name": "Python 3 (ipykernel)",
   "language": "python",
   "name": "python3"
  },
  "language_info": {
   "codemirror_mode": {
    "name": "ipython",
    "version": 3
   },
   "file_extension": ".py",
   "mimetype": "text/x-python",
   "name": "python",
   "nbconvert_exporter": "python",
   "pygments_lexer": "ipython3",
   "version": "3.8.0"
  },
  "toc": {
   "base_numbering": 1,
   "nav_menu": {},
   "number_sections": true,
   "sideBar": true,
   "skip_h1_title": false,
   "title_cell": "Table of Contents",
   "title_sidebar": "Contents",
   "toc_cell": false,
   "toc_position": {},
   "toc_section_display": true,
   "toc_window_display": false
  }
 },
 "nbformat": 4,
 "nbformat_minor": 5
}
