{
 "cells": [
  {
   "cell_type": "markdown",
   "id": "908b7637",
   "metadata": {},
   "source": [
    "# 1. DFS와 BFS"
   ]
  },
  {
   "cell_type": "code",
   "execution_count": 1,
   "id": "66d11bf5",
   "metadata": {},
   "outputs": [
    {
     "name": "stdout",
     "output_type": "stream",
     "text": [
      "4 5 1\n",
      "1 2\n",
      "1 3\n",
      "1 4\n",
      "2 4\n",
      "3 4\n",
      "1 2 4 3 \n",
      "1 2 3 4 "
     ]
    }
   ],
   "source": [
    "from collections import deque\n",
    "\n",
    "N, M, V = map(int, input().split())\n",
    "\n",
    "graph = [[0] * (N + 1) for _ in range(N + 1)]\n",
    "\n",
    "for _ in range(M):\n",
    "  m1, m2 = map(int, input().split())\n",
    "  # 노드 연결 하기\n",
    "  graph[m1][m2] = graph[m2][m1] = 1\n",
    "\n",
    "# 너비 우선 탐색\n",
    "def bfs(start_v):\n",
    "  discoverd = [start_v]\n",
    "  # 리스트를 써서 pop(0)하게 되면 시간복잡도가 O(N)이다.\n",
    "  # 그래서 시간복잡도가 O(1)인 deque를 사용한다.\n",
    "  queue = deque() \n",
    "  queue.append(start_v)\n",
    "\n",
    "  while queue:\n",
    "    v = queue.popleft()\n",
    "    print(v, end=' ')\n",
    "\n",
    "    for w in range(len(graph[start_v])):\n",
    "      if graph[v][w] == 1 and (w not in discoverd):\n",
    "        discoverd.append(w)\n",
    "        queue.append(w)\n",
    "\n",
    "# 깊이 우선 탐색\n",
    "def dfs(start_v, discoverd=[]):\n",
    "  discoverd.append(start_v)\n",
    "  print(start_v, end=' ')\n",
    "\n",
    "  for w in range(len(graph[start_v])):\n",
    "    if graph[start_v][w] == 1 and (w not in discoverd):\n",
    "      dfs(w, discoverd)\n",
    "\n",
    "dfs(V)\n",
    "print()\n",
    "bfs(V)"
   ]
  },
  {
   "cell_type": "markdown",
   "id": "5eb05058",
   "metadata": {},
   "source": [
    "# 2. 2589번 보물섬"
   ]
  },
  {
   "cell_type": "code",
   "execution_count": 1,
   "id": "02071978",
   "metadata": {},
   "outputs": [
    {
     "name": "stdout",
     "output_type": "stream",
     "text": [
      "5 7\n",
      "WLLWWWL\n",
      "LLLWLLL\n",
      "LWLWLWW\n",
      "LWLWLLL\n",
      "WLLWLWW\n",
      "8\n"
     ]
    }
   ],
   "source": [
    "import sys\n",
    "from collections import deque\n",
    "\n",
    "n,m = map(int,input().split())\n",
    "graph = []\n",
    "for _ in range(n):\n",
    "    graph.append(list(input().rstrip()))\n",
    "\n",
    "\n",
    "dx = [0,0,1,-1]\n",
    "dy = [1,-1,0,0]\n",
    "\n",
    "# BFS 함수 \n",
    "def bfs(x,y,cnt):\n",
    "    # 한 지점에서 bfs를 돌 때 현재 cnt값이 최대인지 아닌지를 구분하기 위해 \n",
    "    # max_를 갱신해준다.\n",
    "    max_ = -1\n",
    "    q = deque()\n",
    "    q.append((x,y,cnt))\n",
    "    visited[x][y] = 1\n",
    "    while q:\n",
    "        x,y,cur_cnt = q.popleft()\n",
    "        # max_를 갱신해준다.\n",
    "        if max_ < cur_cnt:\n",
    "            max_ = cur_cnt\n",
    "        for i in range(4):\n",
    "            nx = x + dx[i]\n",
    "            ny = y + dy[i]\n",
    "            if 0<= nx < n and 0<=ny<m and graph[nx][ny] == 'L' and visited[nx][ny] == 0:\n",
    "                # 여기서 현재 좌표의 cnt에서 다음 좌표로 넘어갈 때 cnt + 1 을 해준다.\n",
    "                q.append((nx,ny,cur_cnt+1))\n",
    "                visited[nx][ny] = 1\n",
    "    # 갱신해줬던 max_ 값을 return 해준다/\n",
    "    return max_\n",
    "\n",
    "# Max변수 선언\n",
    "Max = -1\n",
    "for i in range(n):\n",
    "    for j in range(m):\n",
    "        # L 일 때만 bfs함수를 실행시켜줘야 한다.\n",
    "        if graph[i][j] == 'L':\n",
    "            visited = [[0] * (m) for _ in range(n)]\n",
    "            Max = max(Max,bfs(i,j,0))\n",
    "print(Max)"
   ]
  },
  {
   "cell_type": "markdown",
   "id": "93df42b8",
   "metadata": {},
   "source": [
    "# 3. 2583번 영역구하기"
   ]
  },
  {
   "cell_type": "code",
   "execution_count": 2,
   "id": "3a0b941f",
   "metadata": {},
   "outputs": [
    {
     "name": "stdout",
     "output_type": "stream",
     "text": [
      "5 7 3\n",
      "0 2 4 4\n",
      "1 1 2 5\n",
      "4 0 6 2\n",
      "3\n",
      "1 7 13\n"
     ]
    }
   ],
   "source": [
    "# import sys\n",
    "# input = sys.stdin.readline\n",
    " \n",
    "def dfs(x, y):\n",
    "    stack = [(x, y)]\n",
    "    board[x][y] = True\n",
    "    num = 1\n",
    " \n",
    "    while stack:\n",
    "        x, y = stack.pop()\n",
    "        for dx, dy in zip(dxs, dys):\n",
    "            nx, ny = x+dx, y+dy\n",
    "            if nx<0 or nx>=n or ny<0 or ny>=m: continue\n",
    "            if not board[nx][ny]:\n",
    "                stack.append((nx, ny))\n",
    "                board[nx][ny] = True\n",
    "                num += 1\n",
    "    ## 마지막에 영역의 크기를 리스트에 저장한다.\n",
    "    empty_list.append(num)\n",
    " \n",
    " \n",
    "if __name__ == '__main__':\n",
    "    n, m, k = map(int, input().split())\n",
    "    board = [[False] * m for _ in range(n)]\n",
    " \n",
    "    ## 직사각형이 존재하는 영역은 True로 변환\n",
    "    for _ in range(k):\n",
    "        y1, x1, y2, x2 = map(int, input().split())\n",
    "        for i in range(x1, x2):\n",
    "            for j in range(y1, y2):\n",
    "                board[i][j] = True\n",
    "    ## 동 남 서 북\n",
    "    dxs = (0, 1, 0, -1)\n",
    "    dys = (1, 0, -1, 0)\n",
    " \n",
    "    empty_list = []\n",
    "    for i in range(n):\n",
    "        for j in range(m):\n",
    "            if not board[i][j]: # False 라면\n",
    "                dfs(i, j)       # 영역의 크기를 empty_list에 추가시키는 함수\n",
    " \n",
    "    print(len(empty_list))\n",
    "    print(' '.join(map(str, sorted(empty_list))))"
   ]
  }
 ],
 "metadata": {
  "kernelspec": {
   "display_name": "Python [conda env:ds_study] *",
   "language": "python",
   "name": "conda-env-ds_study-py"
  },
  "language_info": {
   "codemirror_mode": {
    "name": "ipython",
    "version": 3
   },
   "file_extension": ".py",
   "mimetype": "text/x-python",
   "name": "python",
   "nbconvert_exporter": "python",
   "pygments_lexer": "ipython3",
   "version": "3.8.11"
  }
 },
 "nbformat": 4,
 "nbformat_minor": 5
}
