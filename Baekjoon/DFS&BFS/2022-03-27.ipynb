{
 "cells": [
  {
   "cell_type": "markdown",
   "id": "4a2044eb",
   "metadata": {},
   "source": [
    "# 내리막 길\n",
    "- https://www.acmicpc.net/problem/1520"
   ]
  },
  {
   "cell_type": "markdown",
   "id": "421e558e",
   "metadata": {},
   "source": [
    "DFS + dp"
   ]
  },
  {
   "cell_type": "code",
   "execution_count": 4,
   "id": "533d145a",
   "metadata": {},
   "outputs": [
    {
     "name": "stdout",
     "output_type": "stream",
     "text": [
      "4 5\n",
      "50 45 37 32 30\n",
      "35 50 40 20 25\n",
      "30 30 25 17 28\n",
      "27 24 22 15 10\n"
     ]
    }
   ],
   "source": [
    "from collections import deque\n",
    "\n",
    "m, n = map(int, input().split())\n",
    "\n",
    "graph = []\n",
    "for _ in range(m):\n",
    "    graph.append(list(map(int, input().split())))\n",
    "\n",
    "# 이동할 네 방향 정의(상, 하, 좌, 우)\n",
    "dx = [-1, 1, 0, 0]\n",
    "dy = [0, 0, -1, 1]\n",
    "\n",
    "def dfs(x, y):\n",
    "    # 끝지점에 도달하면\n",
    "    if x == (m-1) and y == (n-1):\n",
    "        return 1\n",
    "    # 방문하지 않았던 곳이라면 0으로 초기화\n",
    "    if dp[x][y] == -1:\n",
    "        dp[x][y] = 0\n",
    "        \n",
    "        # 현재 위치의 높이\n",
    "        now = graph[x][y]\n",
    "        \n",
    "        # 상하좌우 확인\n",
    "        for i in range(4):\n",
    "            nx = x + dx[i]\n",
    "            ny = y + dy[i]\n",
    "            if 0 <= nx < m and 0 <= ny < n:\n",
    "                if graph[nx][ny] < now:\n",
    "                    dp[x][y] += dfs(nx, ny)\n",
    "    return dp[x][y]"
   ]
  },
  {
   "cell_type": "code",
   "execution_count": 9,
   "id": "4554d008",
   "metadata": {},
   "outputs": [],
   "source": [
    "dp = [[-1] * n for _ in range(m)]"
   ]
  },
  {
   "cell_type": "code",
   "execution_count": 10,
   "id": "50852c32",
   "metadata": {
    "scrolled": true
   },
   "outputs": [
    {
     "name": "stdout",
     "output_type": "stream",
     "text": [
      "3\n"
     ]
    }
   ],
   "source": [
    "print(dfs(0, 0))"
   ]
  },
  {
   "cell_type": "markdown",
   "id": "13db3e45",
   "metadata": {},
   "source": [
    "# 적록색약\n",
    "- https://www.acmicpc.net/problem/10026"
   ]
  },
  {
   "cell_type": "code",
   "execution_count": 54,
   "id": "17c86f84",
   "metadata": {},
   "outputs": [
    {
     "name": "stdout",
     "output_type": "stream",
     "text": [
      "5\n",
      "RRRBB\n",
      "GGBBB\n",
      "BBBRR\n",
      "BBRRR\n",
      "RRRRR\n",
      "4 3\n"
     ]
    }
   ],
   "source": [
    "n = int(input())\n",
    "\n",
    "graph = [list(str(input())) for _ in range(n)]\n",
    "\n",
    "## 동 남 서 북\n",
    "dx = [0, 1, 0, -1]\n",
    "dy = [1, 0, -1, 0]\n",
    "\n",
    "def bfs(x, y):\n",
    "    q = deque()\n",
    "    q.append((x, y))\n",
    "    visited[x][y] = 1\n",
    "    while q:\n",
    "        x, y = q.popleft()\n",
    "        for i in range(4):\n",
    "            nx = x + dx[i]\n",
    "            ny = y + dy[i]\n",
    "            if 0 <= nx < n and 0 <= ny < n and graph[nx][ny] == graph[x][y] and not visited[nx][ny]:\n",
    "                visited[nx][ny] = 1 # 방문처리 후 큐에 추가\n",
    "                q.append((nx, ny))\n",
    "\n",
    "# 정상\n",
    "visited = [[0] * n for _ in range(n)]\n",
    "normal = 0\n",
    "for i in range(n):\n",
    "    for j in range(n):\n",
    "        if not visited[i][j]:\n",
    "            bfs(i, j)\n",
    "            normal += 1\n",
    "\n",
    "for i in range(n):\n",
    "    for j in range(n):\n",
    "        if graph[i][j] == 'G':\n",
    "            graph[i][j] = 'R'\n",
    "\n",
    "# 적록색약\n",
    "visited = [[0] * n for _ in range(n)]\n",
    "color = 0\n",
    "for i in range(n):\n",
    "    for j in range(n):\n",
    "        if not visited[i][j]:\n",
    "            bfs(i, j)\n",
    "            color += 1\n",
    "\n",
    "print(normal, color)"
   ]
  },
  {
   "cell_type": "markdown",
   "id": "bbc932f6",
   "metadata": {},
   "source": [
    "# 벽 부수고 이동하기"
   ]
  },
  {
   "cell_type": "markdown",
   "id": "f6ff0464",
   "metadata": {},
   "source": [
    "- graph의 (0, 0)과 (n-1, m-1)은 항상 0\n",
    "- 0: 이동 가능, 1: 벽"
   ]
  },
  {
   "cell_type": "code",
   "execution_count": 60,
   "id": "535e8442",
   "metadata": {},
   "outputs": [
    {
     "name": "stdout",
     "output_type": "stream",
     "text": [
      "6 4\n",
      "0100\n",
      "1110\n",
      "1000\n",
      "0000\n",
      "0111\n",
      "0000\n",
      "15\n"
     ]
    }
   ],
   "source": [
    "# import sys\n",
    "from collections import deque\n",
    "\n",
    "# input = sys.stdin.readline\n",
    "n, m = map(int, input().split())\n",
    "graph = []\n",
    "for _ in range(n):\n",
    "    row = list(str(input().rstrip()))\n",
    "    graph.append(list(map(int, row)))\n",
    "\n",
    "# 3차원 배열 사용 -> visited[x][y][z], z = 0 or 1로 기록\n",
    "# z = 0이면 벽을 뚫지 않고 간 경우, z = 1이면 벽을 뚫고 간 경우\n",
    "moves = [\n",
    "    [1, 0],\n",
    "    [-1, 0],\n",
    "    [0, 1],\n",
    "    [0, -1]\n",
    "]\n",
    "visited = [[[0] * 2 for _ in range(m)] for _ in range(n)]\n",
    "\n",
    "def bfs():\n",
    "    q = deque()\n",
    "    q.append([0, 0, 0])\n",
    "    visited[0][0][0] = 1\n",
    "\n",
    "    while q:\n",
    "        x, y, w = q.popleft()\n",
    "        \n",
    "        # 목표지점 도달 시 해당 위치까지의 거리 리턴\n",
    "        if x == n - 1 and y == m - 1:\n",
    "            return visited[x][y][w]\n",
    "\n",
    "        for move in moves:\n",
    "            nx, ny = x + move[0], y + move[1]\n",
    "\n",
    "            if 0 <= nx < n and 0 <= ny < m:\n",
    "                # 현재 위치로 이동할 수 있고, 아직 방문하지 않았다면\n",
    "                if graph[nx][ny] == 0 and visited[nx][ny][w] == 0:\n",
    "                    visited[nx][ny][w] = visited[x][y][w] + 1\n",
    "                    q.append([nx, ny, w])\n",
    "                \n",
    "                # 현재 위치가 벽이고, 벽을 아직 부수지 않았다면\n",
    "                elif graph[nx][ny] == 1 and w == 0:\n",
    "                    visited[nx][ny][w + 1] = visited[x][y][w] + 1\n",
    "                    q.append([nx, ny, w + 1])\n",
    "    \n",
    "    # 목표지점까지 도달하지 못한다면 -1 리턴\n",
    "    return -1\n",
    "\n",
    "print(bfs())"
   ]
  }
 ],
 "metadata": {
  "kernelspec": {
   "display_name": "Python 3 (ipykernel)",
   "language": "python",
   "name": "python3"
  },
  "language_info": {
   "codemirror_mode": {
    "name": "ipython",
    "version": 3
   },
   "file_extension": ".py",
   "mimetype": "text/x-python",
   "name": "python",
   "nbconvert_exporter": "python",
   "pygments_lexer": "ipython3",
   "version": "3.8.0"
  },
  "toc": {
   "base_numbering": 1,
   "nav_menu": {},
   "number_sections": true,
   "sideBar": true,
   "skip_h1_title": false,
   "title_cell": "Table of Contents",
   "title_sidebar": "Contents",
   "toc_cell": false,
   "toc_position": {},
   "toc_section_display": true,
   "toc_window_display": false
  }
 },
 "nbformat": 4,
 "nbformat_minor": 5
}
