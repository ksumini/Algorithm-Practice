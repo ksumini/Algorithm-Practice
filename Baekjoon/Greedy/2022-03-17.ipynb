{
 "cells": [
  {
   "cell_type": "markdown",
   "id": "2b52fa78",
   "metadata": {},
   "source": [
    "# 단어 수학"
   ]
  },
  {
   "cell_type": "code",
   "execution_count": 5,
   "id": "268cc4be",
   "metadata": {},
   "outputs": [
    {
     "name": "stdout",
     "output_type": "stream",
     "text": [
      "2\n",
      "GCF\n",
      "ACDEB\n",
      "99437\n"
     ]
    }
   ],
   "source": [
    "# import sys\n",
    "# input = sys.stdin.readline\n",
    "n = int(input()) # 단어 개수\n",
    "\n",
    "alphabet_dict = {'A':0, 'B':0, 'C':0, 'D':0, 'E':0, 'F':0, 'G':0, 'H':0, 'I':0, 'J':0, 'K':0, 'L':0, 'M':0, 'N':0, 'O':0, 'P':0, 'Q':0, 'R':0, 'S':0, 'T':0, 'U':0, 'V':0, 'W':0, 'X':0, 'Y':0, 'Z':0}\n",
    "alphabet_list = []\n",
    "answer = 0\n",
    "pocket = []\n",
    "\n",
    "for _ in range(n):\n",
    "    alphabet = input()\n",
    "    pocket.append(alphabet)\n",
    "\n",
    "for alphabet in pocket:\n",
    "    for i in range(len(alphabet)):\n",
    "        num = 10 ** (len(alphabet) - i - 1) # 각 알파벳을 자리수에 따라 10의 제곱 수로\n",
    "        alphabet_dict[alphabet[i]] += num\n",
    "\n",
    "for value in alphabet_dict.values():\n",
    "    if value > 0:\n",
    "        alphabet_list.append(value)\n",
    "\n",
    "sorted_list = sorted(alphabet_list, reverse=True) # 내림차순 정렬\n",
    "for i in range(len(sorted_list)):\n",
    "    answer += sorted_list[i] * (9 - i)\n",
    "\n",
    "print(answer)"
   ]
  },
  {
   "cell_type": "markdown",
   "id": "9e46f597",
   "metadata": {},
   "source": [
    "# 연료 채우기"
   ]
  },
  {
   "cell_type": "markdown",
   "id": "5b44bbda",
   "metadata": {},
   "source": [
    "참고 코드: https://lcyking.tistory.com/14"
   ]
  },
  {
   "cell_type": "markdown",
   "id": "38446634",
   "metadata": {},
   "source": [
    "1. 거리순으로 정렬을 해준다.\n",
    "2. 주유소에 도착할때마다 연료를 최대힙으로 넣어준다.\n",
    "3. 주유소에 도착할때 연료가 부족하면 힙에 있는 연료를 높은순으로 넣어준다.\n",
    "4. 힙의 길이가 0 이고 연료가 부족하면 -1을 출력한다."
   ]
  },
  {
   "cell_type": "code",
   "execution_count": 17,
   "id": "ee1f535d",
   "metadata": {},
   "outputs": [
    {
     "name": "stdout",
     "output_type": "stream",
     "text": [
      "4\n",
      "4 4\n",
      "5 2\n",
      "11 5\n",
      "15 10\n",
      "25 10\n",
      "3\n"
     ]
    }
   ],
   "source": [
    "# import sys\n",
    "import heapq\n",
    "# input = sys.stdin.readline\n",
    "\n",
    "n = int(input()) # 주유소의 개수\n",
    "info = [list(map(int, input().split())) for _ in range(n)] # 주유소의 정보(주유소까지 거리, 연료의 양)\n",
    "arrive, fuel = map(int, input().split()) # 마을까지 거리, 원래 연료의 양\n",
    "ans = 0\n",
    "info.append([arrive, 0])\n",
    "info.sort() # 거리순으로 정렬\n",
    "heap = []\n",
    "\n",
    "for i in range(len(info)):\n",
    "    if fuel - info[i][0] < 0:\n",
    "        while heap:\n",
    "            fuel += -heapq.heappop(heap)\n",
    "            ans += 1\n",
    "            if fuel - info[i][0] >= 0:\n",
    "                break\n",
    "    if len(heap) == 0 and fuel - info[i][0] < 0:\n",
    "        ans = -1\n",
    "        break\n",
    "    else:\n",
    "        heapq.heappush(heap, -info[i][1])\n",
    "\n",
    "print(ans)"
   ]
  },
  {
   "cell_type": "markdown",
   "id": "7e7d1e1b",
   "metadata": {},
   "source": [
    "# 과제"
   ]
  },
  {
   "cell_type": "markdown",
   "id": "0e3e5ea5",
   "metadata": {},
   "source": [
    "각각의 과제를 최대한 마감기한에 근접하도록 스케줄링\n",
    "각 날짜에 할 일이 있는지를 확인하는, homeworks를 따라 for문을 돌림\n",
    "\n",
    "각 homework에선 (해당 과제의 데드라인)~1까지 반복문을 돌면서 그 날짜가 비어있으면 그 날에 해당 homework를 스케줄"
   ]
  },
  {
   "cell_type": "code",
   "execution_count": 1,
   "id": "8223899c",
   "metadata": {},
   "outputs": [
    {
     "name": "stdout",
     "output_type": "stream",
     "text": [
      "7\n",
      "4 60\n",
      "4 40\n",
      "1 20\n",
      "2 50\n",
      "3 30\n",
      "4 10\n",
      "6 5\n",
      "185\n"
     ]
    }
   ],
   "source": [
    "# import sys\n",
    "# input = sys.stdin.readline\n",
    "\n",
    "N = int(input()) # 과제 개수\n",
    "homeworks = []\n",
    "for _ in range(N):\n",
    "    homeworks.append(list(map(int, input().split())))\n",
    "homeworks.sort(key=lambda x: -x[1])\n",
    "\n",
    "score = 0\n",
    "days = [0]*1001\n",
    "for homework in homeworks:\n",
    "    for d in range(homework[0], 0, -1):\n",
    "        if days[d] == 0:\n",
    "            days[d] = 1\n",
    "            score += homework[1]\n",
    "            break\n",
    "print(score)"
   ]
  }
 ],
 "metadata": {
  "kernelspec": {
   "display_name": "Python 3 (ipykernel)",
   "language": "python",
   "name": "python3"
  },
  "language_info": {
   "codemirror_mode": {
    "name": "ipython",
    "version": 3
   },
   "file_extension": ".py",
   "mimetype": "text/x-python",
   "name": "python",
   "nbconvert_exporter": "python",
   "pygments_lexer": "ipython3",
   "version": "3.8.0"
  },
  "toc": {
   "base_numbering": 1,
   "nav_menu": {},
   "number_sections": true,
   "sideBar": true,
   "skip_h1_title": false,
   "title_cell": "Table of Contents",
   "title_sidebar": "Contents",
   "toc_cell": false,
   "toc_position": {},
   "toc_section_display": true,
   "toc_window_display": false
  }
 },
 "nbformat": 4,
 "nbformat_minor": 5
}
