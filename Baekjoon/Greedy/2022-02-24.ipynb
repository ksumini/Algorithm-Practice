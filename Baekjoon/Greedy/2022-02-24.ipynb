{
 "cells": [
  {
   "cell_type": "markdown",
   "id": "4c0324ee",
   "metadata": {},
   "source": [
    "# 그리디"
   ]
  },
  {
   "cell_type": "markdown",
   "id": "612b5c5a",
   "metadata": {},
   "source": [
    "## 저울\n",
    "- https://www.acmicpc.net/problem/2437"
   ]
  },
  {
   "cell_type": "code",
   "execution_count": 1,
   "id": "c1b1b5e2",
   "metadata": {},
   "outputs": [
    {
     "name": "stdout",
     "output_type": "stream",
     "text": [
      "7\n",
      "3 1 6 2 7 30 1\n",
      "21\n"
     ]
    }
   ],
   "source": [
    "# import sys\n",
    "# input = sys.stdin.readline\n",
    "\n",
    "N = int(input())\n",
    "\n",
    "weight = list(map(int,input().split()))\n",
    "weight.sort()\n",
    "\n",
    "result = 0\n",
    "for i in range(N):\n",
    "    if result + 1 >= weight[i]:\n",
    "        result += weight[i]\n",
    "    else:\n",
    "        break\n",
    "\n",
    "print(result + 1)"
   ]
  },
  {
   "cell_type": "markdown",
   "id": "bea5cda0",
   "metadata": {},
   "source": [
    "## A → B\n",
    "- https://www.acmicpc.net/problem/16953"
   ]
  },
  {
   "cell_type": "code",
   "execution_count": 2,
   "id": "df092e56",
   "metadata": {},
   "outputs": [
    {
     "name": "stdout",
     "output_type": "stream",
     "text": [
      "2 162 \n",
      "5\n"
     ]
    }
   ],
   "source": [
    "# import sys\n",
    "# input = sys.stdin.readline\n",
    "\n",
    "a,b = map(int, input().split())\n",
    "count = 1\n",
    "\n",
    "while True:\n",
    "    if a == b:\n",
    "        break\n",
    "    elif a > b:\n",
    "        count = -1\n",
    "        break\n",
    "    elif (b%10) == 1:\n",
    "        b = b//10\n",
    "        count += 1\n",
    "    elif (b%2) == 0:\n",
    "        b = b//2\n",
    "        count +=1\n",
    "    else:\n",
    "        count = -1\n",
    "        break\n",
    "        \n",
    "print(count)"
   ]
  },
  {
   "cell_type": "markdown",
   "id": "08d8ce55",
   "metadata": {},
   "source": [
    "## 빵집\n",
    "- https://www.acmicpc.net/problem/3109"
   ]
  },
  {
   "cell_type": "code",
   "execution_count": 3,
   "id": "6c6b680d",
   "metadata": {},
   "outputs": [
    {
     "name": "stdout",
     "output_type": "stream",
     "text": [
      "5 5\n",
      ".xx..\n",
      "..x..\n",
      ".....\n",
      "...x.\n",
      "...x.\n",
      "2\n"
     ]
    }
   ],
   "source": [
    "# import sys\n",
    "# input = sys.stdin.readline\n",
    "r, c = map(int, input().split())\n",
    "maps = []\n",
    "for y in range(r):\n",
    "    arr = list(input().replace(\"\\n\",\"\"))\n",
    "    maps.append(arr)\n",
    "\n",
    "# 많은 파이프를 심으려면, 최대한 우상향으로 접근해야 함.\n",
    "dirs = [(-1,1),(0,1),(1,1)]\n",
    "end_line = len(maps[0])-1\n",
    "\n",
    "def connect_pipe(y: int, x: int) -> bool:\n",
    "    # 현재 위치에 파이프 생성\n",
    "    maps[y][x] = 'x'\n",
    "    if x == end_line:\n",
    "        return True\n",
    "    \n",
    "    for dy, dx in dirs:\n",
    "        ny, nx = y+dy, x+dx\n",
    "        # 다음 위치에 파이프 생성이 가능한지 확인\n",
    "        if 0 <= ny < len(maps) and 0 <= nx < len(maps[0]) and maps[ny][nx] == \".\":\n",
    "            if connect_pipe(ny, nx):\n",
    "                # 끝까지 설치가 가능할 경우 이 분기로 진입하게 됨.\n",
    "                return True\n",
    "    return False\n",
    "\n",
    "answer = 0\n",
    "for y in range(len(maps)):\n",
    "    if connect_pipe(y,0):\n",
    "        answer += 1\n",
    "print(answer)\n"
   ]
  }
 ],
 "metadata": {
  "kernelspec": {
   "display_name": "Python 3 (ipykernel)",
   "language": "python",
   "name": "python3"
  },
  "language_info": {
   "codemirror_mode": {
    "name": "ipython",
    "version": 3
   },
   "file_extension": ".py",
   "mimetype": "text/x-python",
   "name": "python",
   "nbconvert_exporter": "python",
   "pygments_lexer": "ipython3",
   "version": "3.8.0"
  },
  "toc": {
   "base_numbering": 1,
   "nav_menu": {},
   "number_sections": true,
   "sideBar": true,
   "skip_h1_title": false,
   "title_cell": "Table of Contents",
   "title_sidebar": "Contents",
   "toc_cell": false,
   "toc_position": {},
   "toc_section_display": true,
   "toc_window_display": false
  }
 },
 "nbformat": 4,
 "nbformat_minor": 5
}
