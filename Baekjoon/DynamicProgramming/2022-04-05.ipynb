{
 "cells": [
  {
   "cell_type": "markdown",
   "id": "be2c66a8",
   "metadata": {},
   "source": [
    "# 줄어들지 않아\n",
    "- https://www.acmicpc.net/problem/2688"
   ]
  },
  {
   "cell_type": "markdown",
   "id": "600ed510",
   "metadata": {},
   "source": [
    "각 자리수보다 왼쪽 자리수가 작거나 같을 때"
   ]
  },
  {
   "cell_type": "code",
   "execution_count": 93,
   "id": "2fa93ff5",
   "metadata": {},
   "outputs": [
    {
     "name": "stdout",
     "output_type": "stream",
     "text": [
      "3\n",
      "2\n",
      "55\n",
      "3\n",
      "220\n",
      "4\n",
      "715\n"
     ]
    }
   ],
   "source": [
    "t = int(input())\n",
    "for _ in range(t):\n",
    "    n = int(input())\n",
    "    # dp 테이블 초기화(최소 1개)\n",
    "    dp = [1 for i in range(10)]\n",
    "    # 끝자리 고정해놓고 올 수 있는 경우의 수 계산\n",
    "    for i in range(n-1):\n",
    "        for j in range(10):\n",
    "            dp[j] = sum(dp[j:])\n",
    "    print(sum(dp))"
   ]
  },
  {
   "cell_type": "markdown",
   "id": "d4af634a",
   "metadata": {},
   "source": [
    "# 내려가기\n",
    "- https://www.acmicpc.net/problem/2096"
   ]
  },
  {
   "attachments": {
    "image.png": {
     "image/png": "[encoded data removed]"
    }
   },
   "cell_type": "markdown",
   "id": "dfc17bb0",
   "metadata": {},
   "source": [
    "1. 세 개의 숫자 중에서 하나를 고른다\n",
    "2. 다음 줄로 내려간다\n",
    "    - 바로 아래의 수\n",
    "    - 바로 아래의 수와 붙어 있는 수\n",
    "![image.png](attachment:image.png)"
   ]
  },
  {
   "cell_type": "code",
   "execution_count": 276,
   "id": "9b831f0b",
   "metadata": {},
   "outputs": [
    {
     "name": "stdout",
     "output_type": "stream",
     "text": [
      "3\n",
      "1 2 3\n",
      "4 5 6\n",
      "4 9 0\n",
      "18 6\n"
     ]
    }
   ],
   "source": [
    "n = int(input())\n",
    "start = list(map(int, input().split()))\n",
    "\n",
    "max_dp = start\n",
    "min_dp = start\n",
    "\n",
    "# 입력 받는 즉시 계산 후 갱신\n",
    "for i in range(n-1):\n",
    "    a,b,c = map(int, input().split())\n",
    "    max_dp = [a + max(max_dp[0], max_dp[1]), b + max(max_dp), c + max(max_dp[1], max_dp[2])]\n",
    "    min_dp = [a + min(min_dp[0], min_dp[1]), b + min(min_dp), c + min(min_dp[1], min_dp[2])]\n",
    "\n",
    "print(max(max_dp), min(min_dp))"
   ]
  },
  {
   "cell_type": "markdown",
   "id": "61d9c9a7",
   "metadata": {},
   "source": [
    "# 게임 개발\n",
    "- https://www.acmicpc.net/problem/1516"
   ]
  },
  {
   "cell_type": "code",
   "execution_count": 213,
   "id": "444a09f6",
   "metadata": {},
   "outputs": [
    {
     "name": "stdout",
     "output_type": "stream",
     "text": [
      "5\n",
      "10 -1\n",
      "10 1 -1\n",
      "4 1 -1\n",
      "4 3 1 -1\n",
      "3 3 -1\n",
      "10\n",
      "20\n",
      "14\n",
      "18\n",
      "17\n"
     ]
    }
   ],
   "source": [
    "from collections import deque\n",
    "\n",
    "# 노드(건물)의 개수 입력받기\n",
    "v = int(input())\n",
    "\n",
    "# 모든 노드에 대한 집입차수는 0으로 초기화\n",
    "indegree = [0] * (v+1)\n",
    "\n",
    "# 각 노드에 연결된 간선 정보를 담기 위한 연결 리스트(그래프) 초기화\n",
    "graph = [[] for _ in range(v+1)]\n",
    "\n",
    "\n",
    "# 각 건물을 짓는데 걸리는 시간\n",
    "time = [0] * (v+1)\n",
    "\n",
    "# 방향 그래프의 모든 간선 정보를 입력받기\n",
    "for i in range(1, v+1):\n",
    "    info = list(map(int, input().split()))[:-1]\n",
    "    time[i] = info[0]\n",
    "    for j in info[1:]:\n",
    "        graph[j].append(i) # 정점 j에서 i로 이동 가능\n",
    "        # 진입차수를 1증가\n",
    "        indegree[i] += 1\n",
    "\n",
    "# 위상 정렬 함수\n",
    "def topology_sort():\n",
    "    result = [0] * (v+1) # 알고리즘 수행 결과를 담을 리스트\n",
    "    q = deque() # 큐 기능을 위한 deque 라이브러리 사용\n",
    "    \n",
    "    # 처음 시작할 때는 진입차수가 0인 노드를 큐에 삽입\n",
    "    for i in range(1, v+1):\n",
    "        if indegree[i] == 0:\n",
    "            q.append(i)\n",
    "            \n",
    "    # 큐가 빌 때까지 반복\n",
    "    while q:\n",
    "        # 큐에서 원소 꺼내기\n",
    "        now = q.popleft()\n",
    "        result[now] += time[now]\n",
    "        # 해당 원소와 연결된 노드들의 진입차수에서 1 빼기\n",
    "        for i in graph[now]:\n",
    "            indegree[i]-= 1\n",
    "            # 먼저 지어야 할 건물 걸리는 시간으로 갱신\n",
    "            result[i] = max(result[i], result[now])\n",
    "            # 새롭게 진입차수가 0이 되는 노드를 큐에 삽입\n",
    "            if indegree[i] == 0:\n",
    "                q.append(i)\n",
    "\n",
    "    return result\n",
    "\n",
    "result = topology_sort()\n",
    "\n",
    "for i in range(1, v+1):\n",
    "    print(result[i])"
   ]
  }
 ],
 "metadata": {
  "kernelspec": {
   "display_name": "Python 3 (ipykernel)",
   "language": "python",
   "name": "python3"
  },
  "language_info": {
   "codemirror_mode": {
    "name": "ipython",
    "version": 3
   },
   "file_extension": ".py",
   "mimetype": "text/x-python",
   "name": "python",
   "nbconvert_exporter": "python",
   "pygments_lexer": "ipython3",
   "version": "3.8.0"
  },
  "toc": {
   "base_numbering": 1,
   "nav_menu": {},
   "number_sections": true,
   "sideBar": true,
   "skip_h1_title": false,
   "title_cell": "Table of Contents",
   "title_sidebar": "Contents",
   "toc_cell": false,
   "toc_position": {},
   "toc_section_display": true,
   "toc_window_display": false
  }
 },
 "nbformat": 4,
 "nbformat_minor": 5
}
