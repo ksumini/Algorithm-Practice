{
 "cells": [
  {
   "cell_type": "markdown",
   "metadata": {},
   "source": [
    "# 줄 세우기\n",
    "- https://www.acmicpc.net/problem/2631"
   ]
  },
  {
   "cell_type": "markdown",
   "metadata": {},
   "source": [
    "**Solution**\n",
    "1. 가장 긴 부분 수열을 구한다.\n",
    "2. 전체 길이에서 가장 긴 부분수열을 빼준다.\n",
    "3. 번호 순서대로 줄을 세우는데 옮겨지는 아이들의 최소 수를 구할 수 있음."
   ]
  },
  {
   "cell_type": "markdown",
   "metadata": {},
   "source": [
    "n = 3 7 5 2 6 1 4 \\\n",
    "d = 1 1 1 1 1 1 1 \\\n",
    "d = 1 2 2 1 3 1 2 "
   ]
  },
  {
   "cell_type": "code",
   "execution_count": 1,
   "metadata": {},
   "outputs": [
    {
     "name": "stdout",
     "output_type": "stream",
     "text": [
      "7\n",
      "3\n",
      "7\n",
      "5\n",
      "2\n",
      "6\n",
      "1\n",
      "4\n",
      "4\n"
     ]
    }
   ],
   "source": [
    "# 아이들의 수\n",
    "n = int(input())\n",
    "# 아이들이 현재 서있는 상태\n",
    "array = [int(input()) for _ in range(n)]\n",
    "\n",
    "dp = [1] * n\n",
    "# 가장 긴 부분 수열 구하기\n",
    "for i in range(1, n):\n",
    "    for j in range(0, i):\n",
    "        if array[i] > array[j]:\n",
    "            dp[i] = max(dp[j]+1, dp[i])\n",
    "# 전체 아이들 숫자에서 가장 긴 부분 수열 빼주기\n",
    "print(n-max(dp))"
   ]
  },
  {
   "cell_type": "markdown",
   "metadata": {},
   "source": [
    "# 타일 채우기\n",
    "- https://www.acmicpc.net/problem/2133"
   ]
  },
  {
   "cell_type": "markdown",
   "metadata": {},
   "source": [
    "**Solution**\n",
    "1. n이 홀수일 때는 타일을 채울 수 없음 -> 0\n",
    "2. n이 0일 때는 2로 초기화\n",
    "3. n이 2, 4, 6일 때 개수 확인\n",
    "    - n이 2일 때: dp[2] = 3\n",
    "    - n이 4일 때: dp[4] = dp[2] * 3 + dp[0] * 1\n",
    "    - n이 6일 때: dp[6] = dp[4] * 3 + dp[2] * 2 + dp[0] * 1\n",
    "4. 점화식: dp[n] = dp[n-2] * 3 + dp[n-4] * 2 +dp[n-6] * 2 + ... + dp[0] * 1"
   ]
  },
  {
   "cell_type": "code",
   "execution_count": 9,
   "metadata": {},
   "outputs": [
    {
     "name": "stdout",
     "output_type": "stream",
     "text": [
      "6\n",
      "41\n"
     ]
    }
   ],
   "source": [
    "n = int(input())\n",
    "\n",
    "dp = [0] * 31\n",
    "dp[0] = 2\n",
    "dp[2] = 3\n",
    "dp[4] = 11\n",
    "for i in range(6, n+1, 2):\n",
    "    dp[i] = dp[i-2] * 3\n",
    "    dp[i] += dp[0] * 1\n",
    "    for j in range(i-4, 0, -2):\n",
    "        dp[i] += dp[j] * 2\n",
    "        \n",
    "print(dp[n])"
   ]
  },
  {
   "cell_type": "markdown",
   "metadata": {},
   "source": [
    "# 암호코드\n",
    "- https://www.acmicpc.net/problem/2011"
   ]
  },
  {
   "cell_type": "markdown",
   "metadata": {},
   "source": [
    "**Solution**\n",
    "1. 앞에 자리수부터 확인\n",
    "2. 한자리수는 항상 해석할 수 있는 경우 1임\n",
    "3. 두자리수부터는 뒤에서부터 두자리수가 10이상 26이하일 때 이전 + 그 이전\n",
    "4. 아닌 경우는 이전 수의 dp테이블 수와 경우의 수 같음"
   ]
  },
  {
   "cell_type": "code",
   "execution_count": 11,
   "metadata": {},
   "outputs": [
    {
     "name": "stdout",
     "output_type": "stream",
     "text": [
      "121074110\n",
      "2\n"
     ]
    }
   ],
   "source": [
    "# 처음에 암호의 크기만큼 dp 테이블 만들었더니 overflow 발생\n",
    "# dp테이블을 각 자리숫자까지 만들 수 있는 경우의 수로 바꿔줌\n",
    "# 0으로 시작할 때 예외처리, 숫자가 10이상일 때 빼먹어서 틀림\n",
    "\n",
    "# import sys\n",
    "# input = sys.stdin.readline\n",
    "\n",
    "pw = list(map(int, input().rstrip()))\n",
    "dp = [0] * (len(pw) + 1)\n",
    "\n",
    "if pw[0] == 0: # 0으로 시작하는 경우는 해석할 수 없음 (10, 20만 해독 가능)\n",
    "    print('0')\n",
    "else:\n",
    "    pw = [0] + pw\n",
    "    dp[0] = dp[1] = 1\n",
    "    for i in range(2, len(pw)):\n",
    "        num = pw[i-1] * 10 + pw[i]\n",
    "        if pw[i] > 0:\n",
    "            dp[i] += dp[i-1]\n",
    "        if 10 <= num <= 26:\n",
    "            dp[i] += dp[i-2]\n",
    "\n",
    "    print(dp[len(pw)-1] % 1000000)"
   ]
  }
 ],
 "metadata": {
  "kernelspec": {
   "display_name": "Python 3",
   "language": "python",
   "name": "python3"
  },
  "language_info": {
   "codemirror_mode": {
    "name": "ipython",
    "version": 3
   },
   "file_extension": ".py",
   "mimetype": "text/x-python",
   "name": "python",
   "nbconvert_exporter": "python",
   "pygments_lexer": "ipython3",
   "version": "3.8.3"
  },
  "toc": {
   "base_numbering": 1,
   "nav_menu": {},
   "number_sections": true,
   "sideBar": true,
   "skip_h1_title": false,
   "title_cell": "Table of Contents",
   "title_sidebar": "Contents",
   "toc_cell": false,
   "toc_position": {},
   "toc_section_display": true,
   "toc_window_display": false
  }
 },
 "nbformat": 4,
 "nbformat_minor": 4
}
