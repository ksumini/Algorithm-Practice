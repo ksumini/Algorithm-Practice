{
 "cells": [
  {
   "cell_type": "markdown",
   "id": "7a425046",
   "metadata": {},
   "source": [
    "# 안전 영역\n",
    "- https://www.acmicpc.net/problem/2468"
   ]
  },
  {
   "cell_type": "code",
   "execution_count": 5,
   "id": "d4a22019",
   "metadata": {},
   "outputs": [
    {
     "name": "stdout",
     "output_type": "stream",
     "text": [
      "5\n",
      "6 8 2 6 2\n",
      "3 2 3 4 6\n",
      "6 7 3 3 2\n",
      "7 2 5 3 6\n",
      "8 9 5 2 7\n",
      "5\n"
     ]
    }
   ],
   "source": [
    "# import sys\n",
    "from collections import deque\n",
    "\n",
    "# input = sys.stdin.readline\n",
    "\n",
    "# n차원 배열\n",
    "n = int(input())\n",
    "graph = [list(map(int, input().split())) for _  in range(n)]\n",
    "max_num = max(map(max, graph))\n",
    "\n",
    "# 확인할 네 방향(상, 하, 좌, 우)\n",
    "dx = [-1, 1, 0, 0]\n",
    "dy = [0, 0, -1, 1]\n",
    "\n",
    "\n",
    "def bfs(x, y):\n",
    "    # 큐(queue) 구현을 위해 deque 라이브러리 사용\n",
    "    queue = deque()\n",
    "    queue.append((x, y))\n",
    "    while queue:\n",
    "        x, y = queue.popleft()\n",
    "        visited[x][y] = True\n",
    "        # 현재 위치에서 네 방향으로의 위치 확인\n",
    "        for i in range(4):\n",
    "            nx = x + dx[i]\n",
    "            ny = y + dy[i]\n",
    "            if 0 <= nx < n and 0 <= ny < n:\n",
    "                if graph[nx][ny] > rain and visited[nx][ny] == False:\n",
    "                    visited[nx][ny] = True\n",
    "                    queue.append((nx, ny))\n",
    "    return 1      \n",
    "\n",
    "ans = 0\n",
    "for rain in range(max_num):\n",
    "    visited = [[False]*n for _ in range(n)] # 방문처리\n",
    "    result = []\n",
    "\n",
    "    for i in range(n):\n",
    "        for j in range(n):\n",
    "            if graph[i][j] > rain and visited[i][j] == False: # 비에 잠기지 않으면서 방문하지 않은 지역\n",
    "                result.append(bfs(i,j))\n",
    "    \n",
    "    ans = max(ans, len(result))\n",
    "    \n",
    "print(ans)"
   ]
  },
  {
   "cell_type": "markdown",
   "id": "0da2a581",
   "metadata": {},
   "source": [
    "# 연구소\n",
    "- https://www.acmicpc.net/problem/14502"
   ]
  },
  {
   "cell_type": "markdown",
   "id": "62f64555",
   "metadata": {},
   "source": [
    "0: 빈 칸, 1: 벽, 2: 바이러스"
   ]
  },
  {
   "cell_type": "code",
   "execution_count": 18,
   "id": "47e7c89e",
   "metadata": {},
   "outputs": [
    {
     "name": "stdout",
     "output_type": "stream",
     "text": [
      "8 8\n",
      "2 0 0 0 0 0 0 2\n",
      "2 0 0 0 0 0 0 2\n",
      "2 0 0 0 0 0 0 2\n",
      "2 0 0 0 0 0 0 2\n",
      "2 0 0 0 0 0 0 2\n",
      "0 0 0 0 0 0 0 0\n",
      "0 0 0 0 0 0 0 0\n",
      "0 0 0 0 0 0 0 0\n",
      "3\n"
     ]
    }
   ],
   "source": [
    "from copy import deepcopy\n",
    "from collections import deque\n",
    "from itertools import combinations\n",
    "\n",
    "# 지도의 세로, 가로 크기\n",
    "n, m = map(int, input().split())\n",
    "# 지도의 모양\n",
    "graph = [list(map(int, input().split())) for _ in range(n)]\n",
    "\n",
    "# 빈 공간의 위치\n",
    "blank = []; virus = []\n",
    "for i in range(n):\n",
    "    for j in range(m):\n",
    "        if graph[i][j] == 0:\n",
    "            blank.append((i, j))\n",
    "        elif graph[i][j] == 2:\n",
    "            virus.append((i, j))\n",
    "\n",
    "# 확인할 네 방향(상, 하, 좌, 우)\n",
    "dx = [-1, 1, 0, 0]\n",
    "dy = [0, 0, -1, 1]\n",
    "                    \n",
    "def bfs(x, y):\n",
    "    # 큐(queue) 구현을 위해 deque 라이브러리 사용\n",
    "    queue = deque()\n",
    "    queue.append((x, y))\n",
    "    while queue:\n",
    "        x, y = queue.popleft()\n",
    "        visited[x][y] = True\n",
    "        # 현재 위치에서 네 방향으로의 위치 확인\n",
    "        for i in range(4):\n",
    "            nx = x + dx[i]\n",
    "            ny = y + dy[i]\n",
    "            if 0 <= nx < n and 0 <= ny < m:\n",
    "                if tmp[nx][ny] == 0 and visited[nx][ny] == False:\n",
    "                    visited[nx][ny] = True\n",
    "                    tmp[nx][ny] = 2\n",
    "                    queue.append((nx, ny))\n",
    "\n",
    "ans = 0\n",
    "# 벽(3개)을 세울 수 있는 경우의 수\n",
    "for i in combinations(blank, 3):\n",
    "    tmp = deepcopy(graph)\n",
    "    for j in i:\n",
    "        tmp[j[0]][j[1]] = 1 # 빈 공간 -> 벽\n",
    "\n",
    "    visited = [[False]*m for _ in range(n)] # 방문처리\n",
    "    for v in virus: # 바이러스로부터 퍼져 나가는 영역\n",
    "        bfs(v[0], v[1])\n",
    "\n",
    "    safe = 0\n",
    "    # 안전 영역 구하기\n",
    "    for i in range(n):\n",
    "        for j in range(m):\n",
    "            if tmp[i][j] == 0:\n",
    "                safe += 1\n",
    "    ans = max(ans, safe)\n",
    "\n",
    "print(ans)"
   ]
  },
  {
   "cell_type": "markdown",
   "id": "ef389c39",
   "metadata": {},
   "source": [
    "# 줄 세우기\n",
    "- https://www.acmicpc.net/problem/2252"
   ]
  },
  {
   "cell_type": "markdown",
   "id": "ac5078d5",
   "metadata": {},
   "source": [
    "**위상정렬**\n",
    "- 진입차수가 0인 정점을 큐에 삽입\n",
    "- 큐에서 원소를 꺼내 해당 원소와 연결된 간선을 모두 제거\n",
    "- 제거한 후에 진입차수가 0인 정점을 큐에 삽입\n",
    "- 이후 2~3의 과정을 반복"
   ]
  },
  {
   "cell_type": "code",
   "execution_count": 6,
   "id": "3acf97e1",
   "metadata": {},
   "outputs": [
    {
     "name": "stdout",
     "output_type": "stream",
     "text": [
      "3 2\n",
      "1 3\n",
      "2 3\n",
      "1 2 3\n"
     ]
    }
   ],
   "source": [
    "import sys\n",
    "from collections import deque\n",
    "input = sys.stdin.readline\n",
    "\n",
    "n, m = map(int, input().split())\n",
    "\n",
    "graph = [[] for _ in range(n+1)]\n",
    "in_degree = [0 for _ in range(n+1)]\n",
    "queue = deque()\n",
    "answer = []\n",
    "\n",
    "for i in range(m):\n",
    "    a, b = map(int, input().split())\n",
    "    graph[a].append(b)\n",
    "    in_degree[b] += 1\n",
    "\n",
    "for i in range(1, n+1):\n",
    "    if in_degree[i] == 0:\n",
    "        queue.append(i)\n",
    "\n",
    "while queue:\n",
    "    tmp = queue.popleft()\n",
    "    answer.append(tmp)\n",
    "    for i in graph[tmp]:\n",
    "        in_degree[i] -= 1\n",
    "        if in_degree[i] == 0:\n",
    "            queue.append(i)\n",
    "\n",
    "print(*answer)"
   ]
  }
 ],
 "metadata": {
  "kernelspec": {
   "display_name": "Python 3 (ipykernel)",
   "language": "python",
   "name": "python3"
  },
  "language_info": {
   "codemirror_mode": {
    "name": "ipython",
    "version": 3
   },
   "file_extension": ".py",
   "mimetype": "text/x-python",
   "name": "python",
   "nbconvert_exporter": "python",
   "pygments_lexer": "ipython3",
   "version": "3.8.0"
  },
  "toc": {
   "base_numbering": 1,
   "nav_menu": {},
   "number_sections": true,
   "sideBar": true,
   "skip_h1_title": false,
   "title_cell": "Table of Contents",
   "title_sidebar": "Contents",
   "toc_cell": false,
   "toc_position": {},
   "toc_section_display": true,
   "toc_window_display": false
  }
 },
 "nbformat": 4,
 "nbformat_minor": 5
}
