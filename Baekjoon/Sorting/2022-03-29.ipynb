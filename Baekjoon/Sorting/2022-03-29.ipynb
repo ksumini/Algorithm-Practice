{
 "cells": [
  {
   "cell_type": "markdown",
   "id": "a4358c04",
   "metadata": {},
   "source": [
    "# 두 용액\n",
    "- https://www.acmicpc.net/problem/2470"
   ]
  },
  {
   "cell_type": "markdown",
   "id": "a95f9b8c",
   "metadata": {},
   "source": [
    "산성(양수), 알칼리성(음수)   \n",
    "같은 양의 두 용액을 혼합한 용액의 특성값: 각 용액의 특성값의 합   \n",
    "특성값이 0에 가까운 용액을 만드려고 한다"
   ]
  },
  {
   "cell_type": "code",
   "execution_count": 44,
   "id": "33d15b37",
   "metadata": {},
   "outputs": [
    {
     "name": "stdout",
     "output_type": "stream",
     "text": [
      "5\n",
      "-2 4 -99 -1 98\n",
      "-99 98\n"
     ]
    }
   ],
   "source": [
    "# 용액의 수\n",
    "n = int(input())\n",
    "\n",
    "arr = list(map(int, input().split()))\n",
    "arr.sort()\n",
    "\n",
    "left, right = 0, n-1\n",
    "answer = abs(arr[left] + arr[right])\n",
    "final = [arr[left], arr[right]]\n",
    "\n",
    "while left < right:\n",
    "    left_val = arr[left]\n",
    "    right_val = arr[right]\n",
    "    \n",
    "    sum_val = left_val + right_val\n",
    "\n",
    "    if abs(sum_val) < answer:\n",
    "        answer = abs(sum_val)\n",
    "        final = [left_val, right_val]\n",
    "        if answer == 0:\n",
    "            break\n",
    "    if sum_val < 0:\n",
    "        left += 1\n",
    "    else:\n",
    "        right -= 1\n",
    "        \n",
    "print(final[0], final[1])"
   ]
  },
  {
   "cell_type": "markdown",
   "id": "3ea1c87c",
   "metadata": {},
   "source": [
    "# 보석 도둑\n",
    "- https://www.acmicpc.net/problem/1202"
   ]
  },
  {
   "cell_type": "code",
   "execution_count": 164,
   "id": "78b79d00",
   "metadata": {},
   "outputs": [
    {
     "name": "stdout",
     "output_type": "stream",
     "text": [
      "3 2\n",
      "1 65\n",
      "5 23\n",
      "2 99\n",
      "10\n",
      "2\n",
      "164\n"
     ]
    }
   ],
   "source": [
    "import heapq\n",
    "\n",
    "n, k = map(int, input().split())\n",
    "\n",
    "jewel = []\n",
    "for _ in range(n):\n",
    "    heapq.heappush(jewel, list(map(int, input().split()))) # 무게를 최소힙으로\n",
    "    \n",
    "bags = []\n",
    "for _ in range(k):\n",
    "    bags.append(int(input()))\n",
    "bags.sort() # 가방의 용량이 작은 가방부터\n",
    "\n",
    "ans = 0\n",
    "tmp = [] # 현재 가방의 용량보다 작은 모든 보석들의 무게\n",
    "\n",
    "for bag in bags:\n",
    "    while jewel and bag >= jewel[0][0]: # 보석이 가방의 용량보다 작은 경우\n",
    "        weight, value = heapq.heappop(jewel) # 최소무게\n",
    "#         print(weight, value)\n",
    "        heapq.heappush(tmp, -value) # 가격을 최대힙으로 넣어줌\n",
    "    if tmp:\n",
    "#         print(f\"현재 가방에 들어있는 보석 무게: {tmp}\")\n",
    "        ans += -heapq.heappop(tmp)\n",
    "#     elif not jewel: # 남은 보석이 없는 경우\n",
    "#         break\n",
    "print(ans)"
   ]
  },
  {
   "cell_type": "markdown",
   "id": "b2a501df",
   "metadata": {},
   "source": [
    "# 전화번호 목록\n",
    "- https://www.acmicpc.net/problem/5052"
   ]
  },
  {
   "cell_type": "markdown",
   "id": "d9c938aa",
   "metadata": {},
   "source": [
    "일관성 있는 목록: YES\n",
    "아닌 경우: NO"
   ]
  },
  {
   "cell_type": "code",
   "execution_count": 187,
   "id": "b7f00ea9",
   "metadata": {},
   "outputs": [
    {
     "name": "stdout",
     "output_type": "stream",
     "text": [
      "2\n",
      "3\n",
      "911\n",
      "97625999\n",
      "91125426\n",
      "NO\n",
      "5\n",
      "113\n",
      "12340\n",
      "123440\n",
      "12345\n",
      "98346\n",
      "YES\n"
     ]
    }
   ],
   "source": [
    "import sys\n",
    "input = sys.stdin.readline\n",
    "\n",
    "t = int(input())\n",
    "def check():\n",
    "    for i in range(len(phone_book)-1):\n",
    "        if phone_book[i] == phone_book[i+1][0:len(phone_book[i])]:\n",
    "            print('NO')\n",
    "            return\n",
    "    print('YES')\n",
    "\n",
    "for _ in range(t):\n",
    "    n = int(input())\n",
    "    phone_book = []\n",
    "    for i in range(n):\n",
    "        phone_book.append(input().strip())\n",
    "    phone_book.sort()\n",
    "    check()"
   ]
  }
 ],
 "metadata": {
  "kernelspec": {
   "display_name": "Python 3 (ipykernel)",
   "language": "python",
   "name": "python3"
  },
  "language_info": {
   "codemirror_mode": {
    "name": "ipython",
    "version": 3
   },
   "file_extension": ".py",
   "mimetype": "text/x-python",
   "name": "python",
   "nbconvert_exporter": "python",
   "pygments_lexer": "ipython3",
   "version": "3.8.0"
  },
  "toc": {
   "base_numbering": 1,
   "nav_menu": {},
   "number_sections": true,
   "sideBar": true,
   "skip_h1_title": false,
   "title_cell": "Table of Contents",
   "title_sidebar": "Contents",
   "toc_cell": false,
   "toc_position": {},
   "toc_section_display": true,
   "toc_window_display": false
  }
 },
 "nbformat": 4,
 "nbformat_minor": 5
}
