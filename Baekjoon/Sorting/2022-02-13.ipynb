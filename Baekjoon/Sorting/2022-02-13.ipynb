{
 "cells": [
  {
   "cell_type": "markdown",
   "id": "1484f82e",
   "metadata": {},
   "source": [
    "# 정렬"
   ]
  },
  {
   "cell_type": "markdown",
   "id": "f185a511",
   "metadata": {},
   "source": [
    "## 1번. 수  묶기"
   ]
  },
  {
   "cell_type": "code",
   "execution_count": 2,
   "id": "cc8f7d9e",
   "metadata": {},
   "outputs": [
    {
     "name": "stdout",
     "output_type": "stream",
     "text": [
      "4\n",
      "-1\n",
      "2\n",
      "1\n",
      "3\n",
      "6\n"
     ]
    }
   ],
   "source": [
    "N = int(input())\n",
    "\n",
    "numbers = sorted([int(input()) for _ in range(N)])\n",
    "\n",
    "plus = []\n",
    "minus = []\n",
    "\n",
    "while N > 0:\n",
    "    tmp = numbers.pop()\n",
    "    if tmp > 0:\n",
    "        plus.append(tmp)\n",
    "    else:\n",
    "        minus.append(tmp)\n",
    "    N -= 1\n",
    "\n",
    "\n",
    "plus = sorted(plus)\n",
    "minus = sorted(minus, key=lambda x: -x)\n",
    "\n",
    "total = 0\n",
    "\n",
    "P = len(plus)\n",
    "M = len(minus)\n",
    "\n",
    "while P > 1:\n",
    "    tmp1 = plus.pop()\n",
    "    tmp2 = plus.pop()\n",
    "    if tmp1 * tmp2 > tmp1 + tmp2:\n",
    "        total += tmp1 * tmp2\n",
    "    else:\n",
    "        total += tmp1 + tmp2\n",
    "    P -= 2\n",
    "\n",
    "if P:\n",
    "    total += plus.pop()\n",
    "\n",
    "while M > 1:\n",
    "    tmp1 = minus.pop()\n",
    "    tmp2 = minus.pop()\n",
    "    if tmp1 * tmp2 > tmp1 + tmp2:\n",
    "        total += tmp1 * tmp2\n",
    "    else:\n",
    "        total += tmp1 + tmp2\n",
    "    M -= 2\n",
    "\n",
    "if M:\n",
    "    total += minus.pop()\n",
    "\n",
    "print(total)"
   ]
  },
  {
   "cell_type": "markdown",
   "id": "627035d7",
   "metadata": {},
   "source": [
    "## 2번. 행복 유치원"
   ]
  },
  {
   "cell_type": "code",
   "execution_count": 4,
   "id": "e71b7396",
   "metadata": {},
   "outputs": [
    {
     "name": "stdout",
     "output_type": "stream",
     "text": [
      "5 3\n",
      "1 3 5 6 10\n",
      "3\n"
     ]
    }
   ],
   "source": [
    "import sys\n",
    "\n",
    "\n",
    "N, K = map(int, input().split())\n",
    "kindergartens = list(map(int, input().split()))\n",
    "\n",
    "costs = []\n",
    "\n",
    "for i in range(N-1):\n",
    "    costs.append(kindergartens[i+1] - kindergartens[i])\n",
    "\n",
    "costs.sort()\n",
    "\n",
    "print(sum(costs[:N-K]))"
   ]
  },
  {
   "cell_type": "markdown",
   "id": "a202c64c",
   "metadata": {},
   "source": [
    "## 3번. 신입사원"
   ]
  },
  {
   "cell_type": "code",
   "execution_count": 5,
   "id": "68dc4d69",
   "metadata": {},
   "outputs": [
    {
     "name": "stdout",
     "output_type": "stream",
     "text": [
      "2\n",
      "5\n",
      "3 2\n",
      "1 4\n",
      "4 1\n",
      "2 3\n",
      "5 5\n",
      "4\n",
      "7\n",
      "3 6\n",
      "7 3\n",
      "4 2\n",
      "1 4\n",
      "5 7\n",
      "2 5\n",
      "6 1\n",
      "3\n"
     ]
    }
   ],
   "source": [
    "import sys\n",
    "# input = sys.stdin.readline\n",
    "T = int(input())\n",
    "\n",
    "for i in range(T) :\n",
    "    n = int(input())\n",
    "    candidates = [0]*n\n",
    "    for j in range(n) :\n",
    "            t1 ,t2 = map(int,input().split())\n",
    "            candidates[j] = [t1,t2]\n",
    "\n",
    "    candidates_sort = sorted(candidates, key = lambda x : x[0])\n",
    "    hired = 1\n",
    "    man = candidates_sort[0][1]\n",
    "    for j in range(1,n) :\n",
    "        if candidates_sort[j][1] < man :\n",
    "            man = candidates_sort[j][1]\n",
    "            hired += 1\n",
    "\n",
    "    print(hired)"
   ]
  }
 ],
 "metadata": {
  "kernelspec": {
   "display_name": "Python [conda env:ds_study] *",
   "language": "python",
   "name": "conda-env-ds_study-py"
  },
  "language_info": {
   "codemirror_mode": {
    "name": "ipython",
    "version": 3
   },
   "file_extension": ".py",
   "mimetype": "text/x-python",
   "name": "python",
   "nbconvert_exporter": "python",
   "pygments_lexer": "ipython3",
   "version": "3.8.11"
  }
 },
 "nbformat": 4,
 "nbformat_minor": 5
}
