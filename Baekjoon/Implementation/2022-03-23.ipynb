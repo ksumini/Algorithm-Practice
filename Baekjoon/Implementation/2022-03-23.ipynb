{
 "cells": [
  {
   "cell_type": "markdown",
   "id": "0178fcca",
   "metadata": {},
   "source": [
    "# 프린터 큐"
   ]
  },
  {
   "cell_type": "code",
   "execution_count": 2,
   "id": "b36f4eb9",
   "metadata": {},
   "outputs": [
    {
     "name": "stdout",
     "output_type": "stream",
     "text": [
      "3\n",
      "1 0\n",
      "5\n",
      "1\n",
      "4 2\n",
      "1 2 3 4\n",
      "2\n",
      "6 0\n",
      "1 1 9 1 1 1\n",
      "5\n"
     ]
    }
   ],
   "source": [
    "from collections import deque\n",
    "t = int(input())\n",
    "for _ in range(t):\n",
    "    n, m = map(int, input().split())\n",
    "    queue = deque(list(map(int, input().split()))) # 중요도\n",
    "\n",
    "    cnt = 0\n",
    "\n",
    "    idx_que = deque(list(range(n))) # 문서번호\n",
    "\n",
    "    while queue:\n",
    "        if queue[0] == max(queue):\n",
    "            cnt += 1\n",
    "            queue.popleft()\n",
    "            if idx_que.popleft() == m:\n",
    "                print(cnt)\n",
    "        else:\n",
    "            queue.append(queue.popleft())\n",
    "            idx_que.append(idx_que.popleft())"
   ]
  },
  {
   "cell_type": "markdown",
   "id": "6b7dc4cb",
   "metadata": {},
   "source": [
    "# 톱니바퀴"
   ]
  },
  {
   "cell_type": "markdown",
   "id": "a6453726",
   "metadata": {},
   "source": [
    "클린코드\n",
    "- https://inspirit941.tistory.com/entry/Python-%EB%B0%B1%EC%A4%80-14891-%ED%86%B1%EB%8B%88%EB%B0%94%ED%80%B4"
   ]
  },
  {
   "cell_type": "markdown",
   "id": "32e2cbd2",
   "metadata": {},
   "source": [
    "- 회전하는 톱니바퀴의 왼쪽 톱니바퀴를 확인할 때\n",
    "    - 회전톱니바퀴[-2] == 왼쪽톱니바퀴[2]\n",
    "\n",
    "- 회전하는 톱니바퀴의 오른쪽 톱니바퀴를 확인할 때\n",
    "    - 회전톱니바퀴[2] == 오른쪽톱니바퀴[-2]"
   ]
  },
  {
   "cell_type": "code",
   "execution_count": 82,
   "id": "a424bee1",
   "metadata": {},
   "outputs": [
    {
     "name": "stdout",
     "output_type": "stream",
     "text": [
      "10101111\n",
      "01111101\n",
      "11001110\n",
      "00000010\n",
      "2\n",
      "3 -1\n",
      "1 1\n",
      "7\n"
     ]
    }
   ],
   "source": [
    "from collections import deque\n",
    "\n",
    "# 톱니바퀴의 상태\n",
    "a = deque(input())\n",
    "b = deque(input())\n",
    "c = deque(input())\n",
    "d = deque(input())\n",
    "\n",
    "# 회전 횟수\n",
    "k = int(input())\n",
    "for _ in range(k):\n",
    "    num, direction = map(int, input().split())\n",
    "\n",
    "    # 전체 톱니바퀴\n",
    "    gear = deque()\n",
    "    gear.append(a)\n",
    "    gear.append(b)\n",
    "    gear.append(c)\n",
    "    gear.append(d)\n",
    "\n",
    "    # 시작 톱니바퀴\n",
    "    start = num-1\n",
    "\n",
    "    total = {x:0 for x in range(4)}\n",
    "    total[start] = direction\n",
    "\n",
    "    if num == 1:\n",
    "        # 1-1) 오른쪽톱니바퀴 확인\n",
    "        if gear[start][2] != gear[start+1][-2]:\n",
    "            total[start+1] = -direction\n",
    "        #1-3) 세번째, 네번째 톱니바퀴 확인\n",
    "        if total[start+1] != 0:\n",
    "            if gear[start+1][2] != gear[start+2][-2]:\n",
    "                total[start+2] = -total[start+1]\n",
    "            if total[start+2] != 0:\n",
    "                if gear[start+2][2] != gear[start+3][-2]:\n",
    "                    total[start+3] = -total[start+2]\n",
    "\n",
    "    elif num == 2:\n",
    "        # 1-1) 왼쪽톱니바퀴 확인(b,c,d)\n",
    "        if gear[start][-2] != gear[start-1][2]: # 서로 다른 극\n",
    "            total[start-1] = -direction\n",
    "        # 1-2) 오른쪽톱니바퀴 확인(a,b,c)\n",
    "        if gear[start][2] != gear[start+1][-2]:\n",
    "            total[start+1] = -direction\n",
    "        #1-3) 나머지 톱니바퀴 확인\n",
    "        if gear[start+1][2] != 0:\n",
    "            if gear[start+1][2] != gear[start+2][-2]:\n",
    "                total[start+2] = -total[start+1]\n",
    "\n",
    "    # 1. 톱니바퀴 확인\n",
    "    elif num == 3:\n",
    "        # 1-1) 왼쪽톱니바퀴 확인(b,c,d)\n",
    "        if gear[start][-2] != gear[start-1][2]: # 서로 다른 극\n",
    "            total[start-1] = -direction\n",
    "        # 1-2) 오른쪽톱니바퀴 확인(a,b,c)\n",
    "        if gear[start][2] != gear[start+1][-2]:\n",
    "            total[start+1] = -direction\n",
    "        #1-3) 나머지 톱니바퀴 확인\n",
    "        if gear[start-1][-2] != 0:\n",
    "            if gear[start-1][-2] != gear[start-2][2]:\n",
    "                total[start-2] = -total[start-1]\n",
    "\n",
    "    elif num == 4:\n",
    "        # 1-1) 왼톱니바퀴 확인\n",
    "        if gear[start][-2] != gear[start-1][2]:\n",
    "            total[start-1] = -direction\n",
    "        #1-3) 두번째, 첫번째 톱니바퀴 확인\n",
    "        if total[start-1] != 0:\n",
    "            if gear[start-1][-2] != gear[start-2][2]:\n",
    "                total[start-2] = -total[start-1]\n",
    "            if total[start-2] != 0:\n",
    "                if gear[start-2][-2] != gear[start-3][2]:\n",
    "                    total[start-3] = -total[start-2]\n",
    "\n",
    "    # 2. 회전\n",
    "    for num, i in total.items():\n",
    "        gear[num].rotate(i)\n",
    "\n",
    "ans = int(gear[0][0]) + (2 * int(gear[1][0])) + (4 * int(gear[2][0])) + (8 * int(gear[3][0]))\n",
    "print(ans)"
   ]
  },
  {
   "cell_type": "markdown",
   "id": "13b816fc",
   "metadata": {},
   "source": [
    "# 인구 이동"
   ]
  },
  {
   "cell_type": "markdown",
   "id": "d0f1d408",
   "metadata": {},
   "source": [
    "인구 이동은 더 이상 아래 방법에 의해 인구 이동이 없을 때까지 지속\n",
    "- 국경선을 공유하는 두 나라의 인구 차이가 L명 이상, R명 이하라면, 두 나라가 공유하는 국경선을 오늘 하루 동안 연다.\n",
    "- 위의 조건에 의해 열어야하는 국경선이 모두 열렸다면, 인구 이동을 시작한다.\n",
    "- 국경선이 열려있어 인접한 칸만을 이용해 이동할 수 있으면, 그 나라를 오늘 하루 동안은 연합이라고 한다.\n",
    "- 연합을 이루고 있는 각 칸의 인구수는 (연합의 인구수) / (연합을 이루고 있는 칸의 개수)가 된다. 편의상 소수점은 버린다.\n",
    "- 연합을 해체하고, 모든 국경선을 닫는다.\n",
    "\n",
    "인구수가 주어졌을 때, 인구 이동이 며칠 동안 발생하는지 구해라"
   ]
  },
  {
   "cell_type": "markdown",
   "id": "37f94155",
   "metadata": {},
   "source": [
    "- 인구이동이 없을 때까지 반복\n",
    "- bfs로 방문하여 연합 진행"
   ]
  },
  {
   "cell_type": "code",
   "execution_count": 68,
   "id": "74750163",
   "metadata": {},
   "outputs": [
    {
     "name": "stdout",
     "output_type": "stream",
     "text": [
      "2 20 50\n",
      "50 30\n",
      "20 40\n",
      "1\n"
     ]
    }
   ],
   "source": [
    "import math\n",
    "from collections import deque\n",
    "\n",
    "n, l, r = map(int, input().split())\n",
    "graph = []\n",
    "for _ in range(n):\n",
    "    population = list(map(int, input().split()))\n",
    "    graph.append(population)\n",
    "\n",
    "# 이동할 네 방향 정의(상, 하, 좌, 우)\n",
    "dx = [-1, 1, 0, 0]\n",
    "dy = [0, 0, -1, 1]\n",
    "\n",
    "def bfs(x, y):\n",
    "    q = deque()\n",
    "    q.append((x, y))\n",
    "    visit[x][y] = True\n",
    "    \n",
    "    union = [(x, y)]\n",
    "    cnt = graph[x][y]\n",
    "    \n",
    "    while q:\n",
    "        x, y = q.popleft()\n",
    "        for i in range(4):\n",
    "            nx = x + dx[i]\n",
    "            ny = y + dy[i]\n",
    "            if nx < 0 or ny < 0 or nx >= n or ny >= n:\n",
    "                continue\n",
    "            if visit[nx][ny]:\n",
    "                continue\n",
    "            # 해당 노드를 처음 방문하는 경우에만 최단 거리 기록\n",
    "            if l <= abs(graph[nx][ny] - graph[x][y]) <= r: # 인구차이가 l명 이상 r명 이하인 경우:\n",
    "                union.append((nx, ny))\n",
    "                visit[nx][ny] = True\n",
    "                q.append((nx, ny))\n",
    "                cnt += graph[nx][ny]\n",
    "                \n",
    "    for x, y in union:\n",
    "        graph[x][y] = math.trunc(cnt / len(union))\n",
    "    \n",
    "    return len(union)\n",
    "\n",
    "days = 0\n",
    "while True: # 인구 이동이 없을때까지 반복\n",
    "    visit = [[False] * n for _ in range(n)]\n",
    "    flag = False # 인구 이동 존재 유무\n",
    "    for i in range(n):\n",
    "        for j in range(n):\n",
    "            if not visit[i][j]:\n",
    "                if bfs(i, j) > 1:\n",
    "                    flag = True\n",
    "    if not flag: # 인구이동이 없는 경우\n",
    "        break\n",
    "    days += 1\n",
    "    \n",
    "print(days)"
   ]
  },
  {
   "cell_type": "markdown",
   "id": "3f25507b",
   "metadata": {},
   "source": [
    "# 테트로미노"
   ]
  },
  {
   "cell_type": "code",
   "execution_count": 79,
   "id": "f2652512",
   "metadata": {},
   "outputs": [
    {
     "name": "stdout",
     "output_type": "stream",
     "text": [
      "5 5\n",
      "1 2 3 4 5\n",
      "5 4 3 2 1\n",
      "2 3 4 5 6\n",
      "6 5 4 3 2\n",
      "1 2 1 2 1\n",
      "19\n"
     ]
    }
   ],
   "source": [
    "# 세로, 가로\n",
    "n, m = map(int, input().split())\n",
    "\n",
    "board = []\n",
    "for _ in range(n):\n",
    "    board.append(list(map(int, input().split())))\n",
    "\n",
    "tetromino = [\n",
    "    [(0,0), (0,1), (1,0), (1,1)], # ㅁ\n",
    "    [(0,0), (0,1), (0,2), (0,3)], # ㅡ\n",
    "    [(0,0), (1,0), (2,0), (3,0)], # ㅣ\n",
    "    [(0,0), (0,1), (0,2), (1,0)], \n",
    "    [(1,0), (1,1), (1,2), (0,2)],\n",
    "    [(0,0), (1,0), (1,1), (1,2)], # ㄴ\n",
    "    [(0,0), (0,1), (0,2), (1,2)], # ㄱ\n",
    "    [(0,0), (1,0), (2,0), (2,1)],\n",
    "    [(2,0), (2,1), (1,1), (0,1)],\n",
    "    [(0,0), (0,1), (1,0), (2,0)], \n",
    "    [(0,0), (0,1), (1,1), (2,1)],\n",
    "    [(0,0), (0,1), (0,2), (1,1)], # ㅜ\n",
    "    [(1,0), (1,1), (1,2), (0,1)], # ㅗ\n",
    "    [(0,0), (1,0), (2,0), (1,1)], # ㅏ\n",
    "    [(1,0), (0,1), (1,1), (2,1)], # ㅓ\n",
    "    [(1,0), (2,0), (0,1), (1,1)],\n",
    "    [(0,0), (1,0), (1,1), (2,1)],\n",
    "    [(1,0), (0,1), (1,1), (0,2)],\n",
    "    [(0,0), (0,1), (1,1), (1,2)]\n",
    "]\n",
    "\n",
    "\n",
    "def find(x, y):\n",
    "    global answer\n",
    "    for i in range(19): # 테트로미노 19가지 모양\n",
    "        result = 0 # 각 테트로미노의 합산 값을 더합니다.\n",
    "        for j in range(4): # 테트로미노는 4개의 블락으로 구성됩니다.\n",
    "            try:\n",
    "                next_x = x+tetromino[i][j][0] # 현재 위치에서 테트로미노를 놓은 x 좌표\n",
    "                next_y = y+tetromino[i][j][1] # 현재 위치에서 테트로미노를 놓은 y 좌표\n",
    "                result += board[next_x][next_y] # 합산 값을 구합니다.\n",
    "            except IndexError: # 현재 위치에서 테트로미노가 board 밖으로 나가게 된다면 인덱스 에러 발생\n",
    "                continue # 패스 \n",
    "        answer = max(answer, result) # 최대 값을 저장\n",
    "\n",
    "def solve():\n",
    "    for i in range(n):\n",
    "        for j in range(m):\n",
    "            find(i, j)\n",
    "            \n",
    "answer = 0\n",
    "solve()\n",
    "print(answer)"
   ]
  }
 ],
 "metadata": {
  "kernelspec": {
   "display_name": "Python 3 (ipykernel)",
   "language": "python",
   "name": "python3"
  },
  "language_info": {
   "codemirror_mode": {
    "name": "ipython",
    "version": 3
   },
   "file_extension": ".py",
   "mimetype": "text/x-python",
   "name": "python",
   "nbconvert_exporter": "python",
   "pygments_lexer": "ipython3",
   "version": "3.8.0"
  },
  "toc": {
   "base_numbering": 1,
   "nav_menu": {},
   "number_sections": true,
   "sideBar": true,
   "skip_h1_title": false,
   "title_cell": "Table of Contents",
   "title_sidebar": "Contents",
   "toc_cell": false,
   "toc_position": {},
   "toc_section_display": true,
   "toc_window_display": false
  }
 },
 "nbformat": 4,
 "nbformat_minor": 5
}
