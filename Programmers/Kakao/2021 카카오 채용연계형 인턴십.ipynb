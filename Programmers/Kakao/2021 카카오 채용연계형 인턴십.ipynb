{
 "cells": [
  {
   "cell_type": "markdown",
   "metadata": {},
   "source": [
    "# 숫자 문자열과 영단어"
   ]
  },
  {
   "cell_type": "markdown",
   "metadata": {},
   "source": [
    "시간 : 5분"
   ]
  },
  {
   "cell_type": "code",
   "execution_count": 60,
   "metadata": {},
   "outputs": [],
   "source": [
    "s = \"23four5six7\""
   ]
  },
  {
   "cell_type": "code",
   "execution_count": 63,
   "metadata": {},
   "outputs": [],
   "source": [
    "def solution(s):\n",
    "    numbers = {'0':'zero', '1':'one', '2':'two', '3':'three', '4':'four', '5':'five', '6':'six', '7':'seven', '8':'eight', '9':'nine'}\n",
    "    for key, value in numbers.items():\n",
    "        if value in s:\n",
    "            s = s.replace(value, key)\n",
    "    return int(s)"
   ]
  },
  {
   "cell_type": "code",
   "execution_count": 64,
   "metadata": {},
   "outputs": [
    {
     "data": {
      "text/plain": [
       "234567"
      ]
     },
     "execution_count": 64,
     "metadata": {},
     "output_type": "execute_result"
    }
   ],
   "source": [
    "solution(s)"
   ]
  },
  {
   "cell_type": "markdown",
   "metadata": {},
   "source": [
    "# 거리두기 확인하기"
   ]
  },
  {
   "cell_type": "markdown",
   "metadata": {},
   "source": [
    "시간 : 1시간\n"
   ]
  },
  {
   "cell_type": "markdown",
   "metadata": {},
   "source": [
    "## 문제 설명"
   ]
  },
  {
   "cell_type": "markdown",
   "metadata": {},
   "source": [
    "1. 대기실은 5개이며, 각 대기실은 5x5 크기입니다.\n",
    "2. 거리두기를 위하여 응시자들 끼리는 <u>맨해튼 거리</u>가 2 이하로 앉지 말아 주세요.\n",
    "    - 두 테이블 T1, T2가 행렬 (r1, c1), (r2, c2)에 각각 위치하고 있다면, T1, T2 사이의 맨해튼 거리는 |r1 - r2| + |c1 - c2| 입니다\n",
    "3. 단 응시자가 앉아있는 자리 사이가 파티션으로 막혀 있을 경우에는 허용합니다."
   ]
  },
  {
   "cell_type": "markdown",
   "metadata": {},
   "source": [
    "- P: 응시자가 앉아있는 자리\n",
    "- O: 빈 테이블\n",
    "- X: 파티션\n",
    "\n",
    "대기실별로 거리두기를 지키고 있으면 : 1    \n",
    "한 명이라도 지키지 않고 있으면: 0"
   ]
  },
  {
   "cell_type": "markdown",
   "metadata": {},
   "source": [
    "## Solution \n",
    "응시자는 최대 25명임으로 모든 거리를 구해도 시간제한(10초) 통과 -> 조합 : $O(2^N)$\n",
    "\n",
    "1. 맨해튼 거리가 3 이상이면 무조건 거리두기 지킨 것(1)\n",
    "2. 1인 경우는 무조건 거리두기 지키지 않은 것(0)\n",
    "3. 2인 경우는 두 응시자 사이에 파티션 존재하는지에 따라 다름\n",
    "    - 파티션으로 막혀있으면 지킨 것(1) \n",
    "    - 막혀있지 않으면 지키지 않은 것(0)"
   ]
  },
  {
   "cell_type": "markdown",
   "metadata": {},
   "source": [
    "## 문제 정리\n",
    "- 처음에 제출한 코드에서 16번 31번 테스트 케이스 통과 x\n",
    "- 응시자 둘이 대각선으로 앉았을 때를 나눠서 생각하지 않음(무조건 오른쪽 아래 방향 대각선으로만 생각하고 코드 작성)\n",
    "    - 오른쪽 아래 방향 대각선으로 앉았을 때는 반대 방향 대각선을 확인\n",
    "    - 왼쪽 아래 방향 대각선으로 앉았을 때 역시 반대 방향 대각선을 확인"
   ]
  },
  {
   "cell_type": "code",
   "execution_count": 166,
   "metadata": {},
   "outputs": [],
   "source": [
    "places = [[\"POOOP\", \"OXXOX\", \"OPXPX\", \"OOXOX\", \"POXXP\"], [\"POOPX\", \"OXPXP\", \"PXXXO\", \"OXXXO\", \"OOOPP\"], [\"PXOPX\", \"OXOXP\", \"OXPOX\", \"OXXOP\", \"PXPOX\"], [\"OOOXX\", \"XOOOX\", \"OOOXX\", \"OXOOX\", \"OOOOO\"], [\"PXPXP\", \"XPXPX\", \"PXPXP\", \"XPXPX\", \"PXPXP\"]]"
   ]
  },
  {
   "cell_type": "code",
   "execution_count": 167,
   "metadata": {},
   "outputs": [],
   "source": [
    "from itertools import combinations\n",
    "def solution(places):\n",
    "    result = []\n",
    "\n",
    "    for row in places:\n",
    "        # 응시자가 앉은 위치 모두 기록\n",
    "        applicant = []\n",
    "        for i in range(5):\n",
    "            for j in range(5):\n",
    "                if row[i][j] == 'P':\n",
    "                    applicant.append([i, j])\n",
    "\n",
    "        ans = 1\n",
    "        for t1, t2 in list(combinations(applicant, 2)): # 지원자들 사이의 거리 경우의 수\n",
    "            (r1, c1), (r2, c2) = t1, t2\n",
    "            dist = abs(r1 - r2) + abs(c1 - c2)\n",
    "\n",
    "            # 1. 맨해튼 거리가 1 일 때는, 무조건 거리두기를 지키고 있지 않음.\n",
    "            if dist == 1:\n",
    "                ans = 0\n",
    "                break\n",
    "            # 2. 맨해튼 거리가 2일 경우, 파티션으로 막혀있는지 확인 필요!\n",
    "            if dist == 2:\n",
    "                # 두 지원자 사이에 파티션(X) 필요\n",
    "                # 1) 같은 행에 있는 경우\n",
    "                if r1 == r2: \n",
    "                    if row[r1][min(c1, c2) + 1] != 'X':\n",
    "                        ans = 0\n",
    "                        break\n",
    "                # 2) 같은 열에 있는 경우\n",
    "                if c1 == c2:\n",
    "                    if row[min(r1, r2) + 1][c1] != 'X':\n",
    "                        ans = 0\n",
    "                        break\n",
    "                # 3) 행과 열이 다른 경우\n",
    "                if r1 != r2 and c1 != c2:\n",
    "                    # 오른쪽 아래로 대각선 방향에 앉은 경우\n",
    "                    if (r1 > r2 and c1 > c2) or (r2 > r1 and c2 > c1):\n",
    "                        if row[min(r1, r2)][max(c1, c2)] == 'O' or row[max(r1, r2)][min(c1, c2)] == 'O':\n",
    "                            ans = 0\n",
    "                            break\n",
    "                    # 왼쪽 위로 대각선 방향에 앉은 경우\n",
    "                    else:\n",
    "                        if row[min(r1, r2)][min(c1, c2)] == 'O' or row[max(r1, r2)][max(c1, c2)] == 'O':\n",
    "                            ans = 0\n",
    "                            break\n",
    "\n",
    "        result.append(ans)\n",
    "        \n",
    "    return result"
   ]
  },
  {
   "cell_type": "code",
   "execution_count": 168,
   "metadata": {},
   "outputs": [
    {
     "data": {
      "text/plain": [
       "[1, 0, 1, 1, 1]"
      ]
     },
     "execution_count": 168,
     "metadata": {},
     "output_type": "execute_result"
    }
   ],
   "source": [
    "solution(places)"
   ]
  },
  {
   "cell_type": "markdown",
   "metadata": {},
   "source": [
    "## 다른 사람 풀이"
   ]
  },
  {
   "cell_type": "code",
   "execution_count": 171,
   "metadata": {},
   "outputs": [],
   "source": [
    "from collections import deque\n",
    "\n",
    "def bfs(p, idx):\n",
    "    q = deque([idx])\n",
    "    visited = [[False]*5 for _ in range(5)]\n",
    "    dic = {0: [0, -1], 1:[-1, 0], 2:[0, 1], 3:[1, 0]}\n",
    "    \n",
    "    while q:\n",
    "        x, y, d = q.popleft()\n",
    "        visited[x][y] = True\n",
    "        \n",
    "        for i in range(4): # 지원자가 있는 지점(노드)에서 상하좌우 확인\n",
    "            nx = x + dic[i][0]\n",
    "            ny = y + dic[i][1]\n",
    "            nd = d + 1\n",
    "\n",
    "            if 0 <= nx < 5 and 0 <= ny < 5 and not visited[nx][ny]: # 범위내에 방문하지 않은 지역\n",
    "                visited[nx][ny] = True # 방문 처리\n",
    "                \n",
    "                if p[nx][ny] == 'P': # 또 다른 지원자\n",
    "                    if nd <= 2: # 거리가 2 이하이면 거리두기 x\n",
    "                        return False\n",
    "\n",
    "                elif p[nx][ny] == 'O': # 빈 테이블\n",
    "                    if nd == 1: # 거리가 1이면 다시 탐색\n",
    "                        q.append([nx, ny, nd])\n",
    "\n",
    "    return True\n",
    "                    \n",
    "def solution(places):\n",
    "    answer = []\n",
    "    \n",
    "    for place in places:\n",
    "        flag = 1\n",
    "        for i in range(5):\n",
    "            for j in range(5):\n",
    "                if place[i][j] == 'P':\n",
    "                    result = bfs(place, [i, j, 0])\n",
    "                    if not result:\n",
    "                        flag = 0\n",
    "                        \n",
    "        answer.append(flag)\n",
    "        \n",
    "    return answer"
   ]
  },
  {
   "cell_type": "code",
   "execution_count": 172,
   "metadata": {},
   "outputs": [
    {
     "data": {
      "text/plain": [
       "[1, 0, 1, 1, 1]"
      ]
     },
     "execution_count": 172,
     "metadata": {},
     "output_type": "execute_result"
    }
   ],
   "source": [
    "solution(places)"
   ]
  },
  {
   "cell_type": "markdown",
   "metadata": {},
   "source": [
    "# 표 편집\n",
    "시간: 1시간 30분 (실패) -> 해설 보고 다시 코드 작성"
   ]
  },
  {
   "cell_type": "markdown",
   "metadata": {},
   "source": [
    "## 문제 설명\n",
    "- 한 번에 한 행만 선택할 수 있음.\n",
    "- 표의 범위를 벗어날 수 없음(0행 ~ 마지막 행)\n",
    "\n",
    "- \"U X\": 현재 선택된 행에서 X칸 위에 있는 행을 선택합니다.\n",
    "- \"D X\": 현재 선택된 행에서 X칸 아래에 있는 행을 선택합니다.\n",
    "- \"C\" : 현재 선택된 행을 삭제한 후, 바로 아래 행을 선택합니다. 단, 삭제된 행이 - 가장 마지막 행인 경우 바로 윗 행을 선택합니다.\n",
    "- \"Z\" : 가장 최근에 삭제된 행을 원래대로 복구합니다. 단, 현재 선택된 행은 바뀌지 않습니다."
   ]
  },
  {
   "cell_type": "markdown",
   "metadata": {},
   "source": [
    "\"U X\", \"D X\", \"C\", \"Z\"  \n",
    "- n: 처음 표의 행 개수를 나타내는 정수 -> n은 최대 100만: ($O(N)$ or $O(logN)$)\n",
    "- k: 처음에 선택된 행의 위치를 나타내는 정수\n",
    "- cmd: 수행한 명령어들이 담긴 문자열 배열\n",
    "\n",
    "삭제되지 않은 행은 O, 삭제된 행은 X로 표시하여 문자열 형태로 return"
   ]
  },
  {
   "cell_type": "code",
   "execution_count": 173,
   "metadata": {},
   "outputs": [],
   "source": [
    "n = 8\n",
    "k = 2\n",
    "cmd = [\"D 2\",\"C\",\"U 3\",\"C\",\"D 4\",\"C\",\"U 2\",\"Z\",\"Z\",\"U 1\",\"C\"]\n",
    "cmd = [\"D 2\",\"C\",\"U 3\",\"C\",\"D 4\",\"C\",\"U 2\",\"Z\",\"Z\"]"
   ]
  },
  {
   "cell_type": "markdown",
   "metadata": {},
   "source": [
    "## 처음 구현한 틀린 코드\n",
    "- 1시간 30분. 계속 오답처리돼서 카카오 해설 참고\n",
    "- 효율성은 다 통과 안되고, 정확성에서도 틀린 케이스가 더 많음."
   ]
  },
  {
   "cell_type": "code",
   "execution_count": 174,
   "metadata": {},
   "outputs": [],
   "source": [
    "def solution(n, k, cmd):\n",
    "    # 행의 삭제 여부\n",
    "    removed = ['O'] * n\n",
    "    # 삭제된 행\n",
    "    stack = []\n",
    "    arr = list(range(n))\n",
    "    # 현재 위치한 행\n",
    "    now = k\n",
    "\n",
    "    for i in cmd:\n",
    "        oper = i.split()\n",
    "        if oper[0] == 'D':\n",
    "            now += int(oper[1])\n",
    "        elif oper[0] == 'U':\n",
    "            now -= int(oper[1])\n",
    "        elif oper[0] == 'C':\n",
    "            # 1) 선택된 행 삭제 여부 저장\n",
    "            removed[now] = 'X'\n",
    "            # 2) 삭제되는 행이 가장 마지막 행인지 확인\n",
    "            # 2-1) 가장 마지막 행이면, 바로 위 행으로 이동\n",
    "            if now == len(arr)-1:\n",
    "                stack.append([now,arr.pop(now)]) # 복구를 위해 인덱스 번호도 같이 스택에 저장\n",
    "                now -= 1\n",
    "            # 2-2) 가장 마지막 행이 아니면, 바로 아래 행으로 이동\n",
    "            else:\n",
    "                stack.append([now,arr.pop(now)]) # 복구를 위해 인덱스 번호도 같이 스택에 저장\n",
    "        elif oper[0] == 'Z':\n",
    "            idx, name = stack.pop()\n",
    "            removed[idx] = 'O'\n",
    "            arr.insert(idx, name)\n",
    "            if idx < now:\n",
    "                now += 1\n",
    "\n",
    "    return ''.join(removed)"
   ]
  },
  {
   "cell_type": "code",
   "execution_count": 175,
   "metadata": {},
   "outputs": [
    {
     "data": {
      "text/plain": [
       "'OOOOXOOO'"
      ]
     },
     "execution_count": 175,
     "metadata": {},
     "output_type": "execute_result"
    }
   ],
   "source": [
    "solution(n, k, cmd)"
   ]
  },
  {
   "cell_type": "markdown",
   "metadata": {},
   "source": [
    "## 문제 정리"
   ]
  },
  {
   "attachments": {
    "image.png": {
     "image/png": "[encoded data removed]"
    }
   },
   "cell_type": "markdown",
   "metadata": {},
   "source": [
    "**카카오 문제 풀이를 참고해서 다시 푼 코드**\n",
    "- U, D: 선택된 노드에서 X 번만 링크를 따라가면 되기 때문에 O(X)에 처리할 수 있습니다.\n",
    "- C: 선택된 노드와 그 노드의 앞뒤로 연결된 노드들의 링크 정보만 변경해 주면 되기 때문에 O(1)에 처리할 수 있습니다.\n",
    "- Z: 삭제된 노드 정보를 스택에 담아 두면 나중에 해당 노드에 O(1)에 접근하여 링크 정보를 복구해 줄 수 있기 때문에 O(1)에 처리할 수 있습니다.\n",
    "\n",
    "![image.png](attachment:image.png)"
   ]
  },
  {
   "cell_type": "code",
   "execution_count": 34,
   "metadata": {},
   "outputs": [],
   "source": [
    "class Node:\n",
    "    def __init__(self, prev=None, next=None):\n",
    "        self.num = 0\n",
    "        self.removed = False\n",
    "        self.prev = prev\n",
    "        self.next = next        \n",
    "\n",
    "def solution(n, k, cmd):\n",
    "    linked_list = [Node() for _ in range(n)] # 연결 리스트 초기화\n",
    "    stack  =[]\n",
    "    # 노드끼리 연결(이중 연결 리스트) - 양방향으로 연결되어 있어서 노드 탐색이 양쪽으로 모두 가능\n",
    "    for i in range(1,n):\n",
    "        linked_list[i].num = i\n",
    "        linked_list[i-1].next = linked_list[i]\n",
    "        linked_list[i].prev = linked_list[i-1]\n",
    "    \n",
    "    current = linked_list[k] # 현재 위치\n",
    "    \n",
    "    for command in cmd:\n",
    "        option = command[0]\n",
    "        if (option == 'U'): # 위로 이동\n",
    "            amount = int(command.split(\" \")[1])\n",
    "            for i in range(amount):\n",
    "                current = current.prev\n",
    "        elif (option == 'D'): # 아래로 이동\n",
    "            amount = int(command.split(\" \")[1])\n",
    "            for i in range(amount):\n",
    "                current = current.next\n",
    "        elif (option == 'C'): # 삭제\n",
    "            stack.append(current.num) # 삭제한 인덱스 번호 저장\n",
    "            current.removed= True # 삭제 여부\n",
    "            \n",
    "            if(current.prev): # 맨 앞 노드가 아닐 때, 앞뒤로 연결된 노드들의 링크 정보만 변경해 주면 되기 때문에 O(1)\n",
    "                current.prev.next = current.next\n",
    "            if(current.next): # 맨 뒤 노드가 아닐 때, 앞뒤로 연결된 노드들의 링크 정보만 변경해 주면 되기 때문에 O(1)\n",
    "                current.next.prev = current.prev\n",
    "                current = current.next\n",
    "            else: # 마지막 노드를 삭제하는 경우, 바로 윗 행 선택(이전 노드)\n",
    "                current = current.prev\n",
    "            \n",
    "        elif (option == 'Z'): # 복구\n",
    "            pop = stack.pop() # O(1)\n",
    "            restore = linked_list[pop] \n",
    "            restore.removed = False\n",
    "            if(restore.prev):\n",
    "                restore.prev.next = restore\n",
    "            if(restore.next):\n",
    "                restore.next.prev = restore\n",
    "            \n",
    "    answer =''\n",
    "    for item in linked_list:\n",
    "        if item.removed:\n",
    "            answer+='X'\n",
    "        else:\n",
    "            answer+='O'\n",
    "        \n",
    "    return answer"
   ]
  }
 ],
 "metadata": {
  "kernelspec": {
   "display_name": "Python 3",
   "language": "python",
   "name": "python3"
  },
  "language_info": {
   "codemirror_mode": {
    "name": "ipython",
    "version": 3
   },
   "file_extension": ".py",
   "mimetype": "text/x-python",
   "name": "python",
   "nbconvert_exporter": "python",
   "pygments_lexer": "ipython3",
   "version": "3.8.3"
  },
  "toc": {
   "base_numbering": 1,
   "nav_menu": {},
   "number_sections": true,
   "sideBar": true,
   "skip_h1_title": false,
   "title_cell": "Table of Contents",
   "title_sidebar": "Contents",
   "toc_cell": false,
   "toc_position": {
    "height": "calc(100% - 180px)",
    "left": "10px",
    "top": "150px",
    "width": "246.825px"
   },
   "toc_section_display": true,
   "toc_window_display": true
  }
 },
 "nbformat": 4,
 "nbformat_minor": 4
}
