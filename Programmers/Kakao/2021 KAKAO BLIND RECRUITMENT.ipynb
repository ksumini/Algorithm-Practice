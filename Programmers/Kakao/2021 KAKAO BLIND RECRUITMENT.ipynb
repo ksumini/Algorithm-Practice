{
 "cells": [
  {
   "cell_type": "markdown",
   "metadata": {},
   "source": [
    "**문제 해설** https://tech.kakao.com/2021/01/25/2021-kakao-recruitment-round-1/#%EB%AC%B8%EC%A0%9C-3-%EC%88%9C%EC%9C%84-%EA%B2%80%EC%83%89\n",
    "- 합격 커트라인: 3.5 ~ 4솔"
   ]
  },
  {
   "cell_type": "markdown",
   "metadata": {},
   "source": [
    "1. 문자열\n",
    "2. 문자열\n",
    "3. 이분탐색, 조합\n",
    "4. 다익스트라, 플로이드 워셜\n",
    "5. 부분합, 메모이제이션\n",
    "6. 완전탐색, 시뮬레이션(BFS)\n",
    "7. 트리, 다이나믹 프로그래밍"
   ]
  },
  {
   "cell_type": "markdown",
   "metadata": {},
   "source": [
    "# 신규 아이디 추천\n",
    "\n",
    "30분"
   ]
  },
  {
   "cell_type": "markdown",
   "metadata": {},
   "source": [
    "## 문제 설명\n",
    "- 아이디는 3자 이상 15자 이하\n",
    "- 알파벳 소문자, 숫자, 빼기, 밑줄, 마침표만 사용\n",
    "- 마침표는 처음과 끝에 사용할 수 없고, 연속으로도 사용x"
   ]
  },
  {
   "cell_type": "markdown",
   "metadata": {},
   "source": [
    "## Solution\n",
    "- 순서대로 구현"
   ]
  },
  {
   "cell_type": "markdown",
   "metadata": {},
   "source": [
    "1. 모든 대문자 -> 소문자\n",
    "2. 알파벳 소문자, 숫자, 빼기, 밑줄, 마침표를 제외한 모든 문자 제거\n",
    "3. 마침표가 2번 이상 -> . 하나로 치환\n",
    "4. 마침표가 처음이나 끝 -> 제거\n",
    "5. 빈 문자열이면 'a'를 대입\n",
    "6. 16자 이상이면, 첫 15개 문자를 제외한 나머지 문자들을 제거\n",
    "    - 제거 후 마침표가 맽끝에 위치한다면 제거\n",
    "7. 2자 이하라면,길이가 3이 될때까지 반복해서 끝에 붙힘"
   ]
  },
  {
   "cell_type": "code",
   "execution_count": 85,
   "metadata": {},
   "outputs": [],
   "source": [
    "new_id = \"...!@BaT#*..y.abcdefghijklm\"\n",
    "new_id = \"z-+.^.\"\n",
    "new_id = \"=.=\"\n",
    "new_id = \"abcdefghijklmn.p\""
   ]
  },
  {
   "cell_type": "code",
   "execution_count": 90,
   "metadata": {},
   "outputs": [],
   "source": [
    "import re\n",
    "\n",
    "def solution(new_id):\n",
    "    # 1) 대문자 -> 소문자\n",
    "    answer = new_id.lower()\n",
    "    # 2) 특정 문자 제거(소문자, 숫자, -, _, !)\n",
    "    answer = re.sub(r'[^a-z0-9._-]', '', answer)\n",
    "    # 3) 마침표(.)가 2번 이상 연속된 부분을 하나의 마침표로 치환\n",
    "    answer = re.sub('[..]+', '.', answer)\n",
    "    # 4) 처음이나 끝에 위치한 .wprj\n",
    "    if answer.startswith('.'):\n",
    "        answer = answer[1:]\n",
    "    if answer.endswith('.'):\n",
    "        answer = answer[:-1]\n",
    "    # 5) 빈 문자열이면, \"a\" 대입\n",
    "    if not answer:\n",
    "        answer += 'a'\n",
    "    # 6) 16자 이상이면, 15개 문자만 -> 제거 후 마침표가 있으면 제거\n",
    "    if len(answer) >= 16:\n",
    "        answer = answer[:15]\n",
    "        if answer[-1] == '.':\n",
    "            answer = answer[:-1]\n",
    "    # 7) 2자 이하이면, 3이 될 때까지 마지막 문자를 붙여줌\n",
    "    if len(answer) <= 2:\n",
    "        while True:\n",
    "            if len(answer) == 3:\n",
    "                break\n",
    "            answer += answer[-1]\n",
    "    \n",
    "    return answer"
   ]
  },
  {
   "cell_type": "code",
   "execution_count": 91,
   "metadata": {},
   "outputs": [
    {
     "data": {
      "text/plain": [
       "'abcdefghijklmn'"
      ]
     },
     "execution_count": 91,
     "metadata": {},
     "output_type": "execute_result"
    }
   ],
   "source": [
    "solution(new_id)"
   ]
  },
  {
   "cell_type": "markdown",
   "metadata": {},
   "source": [
    "**다른 사람 코드**\n",
    "- 전체 다 정규표현식 써서 더 간결함"
   ]
  },
  {
   "cell_type": "code",
   "execution_count": 92,
   "metadata": {},
   "outputs": [],
   "source": [
    "import re\n",
    "\n",
    "def solution(new_id):\n",
    "    st = new_id\n",
    "    st = st.lower()\n",
    "    st = re.sub('[^a-z0-9\\-_.]', '', st)\n",
    "    st = re.sub('\\.+', '.', st)\n",
    "    st = re.sub('^[.]|[.]$', '', st)\n",
    "    st = 'a' if len(st) == 0 else st[:15]\n",
    "    st = re.sub('^[.]|[.]$', '', st)\n",
    "    st = st if len(st) > 2 else st + \"\".join([st[-1] for i in range(3-len(st))])\n",
    "    return st"
   ]
  },
  {
   "cell_type": "markdown",
   "metadata": {},
   "source": [
    "# 메뉴 리뉴얼\n",
    "\n",
    "30분"
   ]
  },
  {
   "cell_type": "markdown",
   "metadata": {},
   "source": [
    "## 문제 설명"
   ]
  },
  {
   "cell_type": "markdown",
   "metadata": {},
   "source": [
    "- 메뉴 조합 -> 코스 요리(최소 2가지 이상 단품)\n",
    "- 최소 2명 이상의 손님으로부터 주문된 단품메뉴 조합만 후보"
   ]
  },
  {
   "cell_type": "markdown",
   "metadata": {},
   "source": [
    "- orders: 단품메뉴\n",
    "- course: 스카피가 추가하고 싶어하는 코스요리의 단품메뉴 갯수\n",
    "- 스카피가 새로 추가하게 될 코스요리의 메뉴 구성(사전 순으로 정렬)"
   ]
  },
  {
   "cell_type": "markdown",
   "metadata": {},
   "source": [
    "## 문제 풀이\n",
    "- input값 범위가 작기 때문에 조합으로 경우의 수 완전탐색"
   ]
  },
  {
   "cell_type": "code",
   "execution_count": 163,
   "metadata": {},
   "outputs": [],
   "source": [
    "orders = [\"XYZ\", \"XWY\", \"WXA\"]\n",
    "course = [2,3,4]"
   ]
  },
  {
   "cell_type": "code",
   "execution_count": 192,
   "metadata": {},
   "outputs": [],
   "source": [
    "from itertools import combinations\n",
    "def solution(orders, course):\n",
    "    result = []\n",
    "    for n in course:\n",
    "        meal = {}\n",
    "        for order in orders:\n",
    "            for combi in combinations(sorted(order), n):\n",
    "                combi = ''.join(combi)\n",
    "                meal[combi] = meal.get(combi, 0) + 1\n",
    "        for k, v in meal.items():\n",
    "            if v == max(meal.values()) and v >= 2:\n",
    "                result.append(k)\n",
    "    return sorted(result, key=lambda x:[x, len(x)])"
   ]
  },
  {
   "cell_type": "code",
   "execution_count": 193,
   "metadata": {},
   "outputs": [
    {
     "data": {
      "text/plain": [
       "['WX', 'XY']"
      ]
     },
     "execution_count": 193,
     "metadata": {},
     "output_type": "execute_result"
    }
   ],
   "source": [
    "solution(orders, course)"
   ]
  },
  {
   "cell_type": "markdown",
   "metadata": {},
   "source": [
    "**다른 사람 코드**\n",
    "- Counter써서 for문 사용을 줄임"
   ]
  },
  {
   "cell_type": "code",
   "execution_count": 197,
   "metadata": {},
   "outputs": [],
   "source": [
    "from itertools import combinations\n",
    "from collections import Counter\n",
    "\n",
    "\n",
    "def solution(orders, course):\n",
    "    answer = []\n",
    "    for c in course:\n",
    "        temp = []\n",
    "        for order in orders:\n",
    "            combi = combinations(sorted(order), c)\n",
    "            temp += combi\n",
    "        counter = Counter(temp)\n",
    "        if len(counter) != 0 and max(counter.values()) != 1:\n",
    "            answer += [''.join(f) for f in counter if counter[f] == max(counter.values())]\n",
    "\n",
    "    return sorted(answer)"
   ]
  },
  {
   "cell_type": "markdown",
   "metadata": {},
   "source": [
    "# 순위 검색\n",
    "\n",
    "1시간 -> 실패\n",
    "- 이분탐색으로 점수 조건에 해당하는 사람을 먼저 뽑고 \n",
    "- 그 사람들 중 조건에 맞는 지원자를 확인하려고 했지만 코드가 너무 복잡해져서 해설을 참고함"
   ]
  },
  {
   "cell_type": "markdown",
   "metadata": {},
   "source": [
    "## 문제 설명\n",
    "- 코딩테스트 참여 개발언어 항목에 cpp, java, python 중 하나를 선택해야 합니다.\n",
    "- 지원 직군 항목에 backend와 frontend 중 하나를 선택해야 합니다.\n",
    "- 지원 경력구분 항목에 junior와 senior 중 하나를 선택해야 합니다.\n",
    "- 선호하는 소울푸드로 chicken과 pizza 중 하나를 선택해야 합니다."
   ]
  },
  {
   "cell_type": "markdown",
   "metadata": {},
   "source": [
    "* [조건]을 만족하는 사람 중 코딩테스트 점수를 X점 이상 받은 사람은 모두 몇 명인가?"
   ]
  },
  {
   "cell_type": "markdown",
   "metadata": {},
   "source": [
    "- info: 지원자의 정보(배열) - 최대 5만\n",
    "    - [개발언어, 직군, 경력, 소울푸드, 점수]\n",
    "- query: 개발팀의 문의조건(문자열) - 최대 10만\n",
    "    - [조건] X: \"개발언어 and 직군 and 경력 and 소울푸드\"\n",
    "    - '-': 고려하지 않음\n",
    "    - X: X점 이상 받은 사람은 모두 몇명인지"
   ]
  },
  {
   "cell_type": "markdown",
   "metadata": {},
   "source": [
    "## 문제 풀이"
   ]
  },
  {
   "cell_type": "markdown",
   "metadata": {},
   "source": [
    "query가 최대 10만이기 때문에 $O(NlogN)$을 보장해야 한다"
   ]
  },
  {
   "cell_type": "markdown",
   "metadata": {},
   "source": [
    "**다른 사람 코드**: https://hongcoding.tistory.com/56\n",
    "1. info 안의 문자열을 공백을 기준으로 분리합니다. ( ex ['java', 'backend', 'junior', 'pizza', '150'] )\n",
    "2. 분리한 것 중, 앞의 4부분(java,backend..)을 키값으로, 마지막부분(150)을 value값으로 분리 합니다.\n",
    "3. 키값들로 만들 수 있는 모든 조합을 생성합니다. (combinations 이용)\n",
    "4. 이 조합으로 딕셔너리를 생성합니다. 해당 키값이 딕셔너리에 이미 존재하면 value값을 그 키의 value값에 추가합니다.    { 'javabackendjuniorpizza' : [150...] , 'java' : [100...] , ... } 식으로 생성이 되겠죠?\n",
    "5. 딕셔너리의 각 원소마다 value값들을 기준으로 정렬합니다. [100,150,200...]식으로 되도록\n",
    "6. query도 마찬가지로 분리합니다. ( query에는 and와 -도 있기 때문에 제거를 하여 info와 같은 형식으로 만듭니다. )\n",
    "7. 이제 query를 한바퀴 돌면서, info딕셔너리를 탐방하게 되는데, query의 key값이 info딕셔너리의 키값으로 존재하면 그 info딕셔너리의 value값들을 가져옵니다.\n",
    "8. 가져온 점수값에서 기준 점수값을 넘는 것들의 개수를 이분탐색을 통해 구하면 됩니다."
   ]
  },
  {
   "cell_type": "code",
   "execution_count": 327,
   "metadata": {},
   "outputs": [],
   "source": [
    "info = [\"java backend junior pizza 150\",\"python frontend senior chicken 210\",\"python frontend senior chicken 150\",\"cpp backend senior pizza 260\",\"java backend junior chicken 80\",\"python backend senior chicken 50\"]\n",
    "query = [\"java and backend and junior and pizza 100\",\"python and frontend and senior and chicken 200\",\"cpp and - and senior and pizza 250\",\"- and backend and senior and - 150\",\"- and - and - and chicken 100\",\"- and - and - and - 150\"]"
   ]
  },
  {
   "cell_type": "code",
   "execution_count": 328,
   "metadata": {},
   "outputs": [],
   "source": [
    "from itertools import combinations\n",
    "from bisect import bisect_left\n",
    "\n",
    "\n",
    "def solution(info, query):\n",
    "    answer = []\n",
    "    info_dict = {}\n",
    "\n",
    "    for i in range(len(info)):\n",
    "        infol = info[i].split()  # info안의 문자열을 공백을 기준으로 분리\n",
    "        mykey = infol[:-1]  # info의 점수제외부분을 key로 분류\n",
    "        myval = infol[-1]  # info의 점수부분을 value로 분류\n",
    "\n",
    "        for j in range(5):  # key들로 만들 수 있는 모든 조합 생성\n",
    "            for c in combinations(mykey, j):\n",
    "                tmp = ''.join(c)\n",
    "                if tmp in info_dict:\n",
    "                    info_dict[tmp].append(int(myval))  # 그 조합의 key값에 점수 추가\n",
    "                else:\n",
    "                    info_dict[tmp] = [int(myval)]\n",
    "\n",
    "    for k in info_dict:\n",
    "        info_dict[k].sort()  # dict안의 조합들을 점수순으로 정렬\n",
    "\n",
    "    for qu in query:  # query도 마찬가지로 key와 value로 분리\n",
    "        myqu = qu.split(' ')\n",
    "        qu_key = myqu[:-1]\n",
    "        qu_val = myqu[-1]\n",
    "\n",
    "        while 'and' in qu_key:  # and 제거\n",
    "            qu_key.remove('and')\n",
    "        while '-' in qu_key:  # - 제거\n",
    "            qu_key.remove('-')\n",
    "        qu_key = ''.join(qu_key)  # dict의 key처럼 문자열로 변경\n",
    "\n",
    "        if qu_key in info_dict:  # query의 key가 info_dict의 key로 존재하면\n",
    "            scores = info_dict[qu_key]\n",
    "\n",
    "            if scores:  # score리스트에 값이 존재하면\n",
    "                enter = bisect_left(scores, int(qu_val))\n",
    "\n",
    "                answer.append(len(scores) - enter)\n",
    "        else:\n",
    "            answer.append(0)\n",
    "\n",
    "    return answer"
   ]
  },
  {
   "cell_type": "markdown",
   "metadata": {},
   "source": [
    "# 합승 택시 요금"
   ]
  },
  {
   "cell_type": "markdown",
   "metadata": {},
   "source": [
    "40분"
   ]
  },
  {
   "cell_type": "markdown",
   "metadata": {},
   "source": [
    "## 문제 설명\n",
    "- 택시노선(간선), 예상요금(가중치)\n",
    "- 두 사람이 모두 귀가하는데 소요되는 예상 최저 택시 요금"
   ]
  },
  {
   "cell_type": "markdown",
   "metadata": {},
   "source": [
    "- n: 지점(노드)의 개수\n",
    "- s: 출발지점(노드)\n",
    "- a: A의 도착지점\n",
    "- b: B의 도착지점\n",
    "- fares: 가중치(예상 택시요금)\n",
    "-> 만약, 합승을 하지 않고 각자 이동하는 경우의 예상 택시요금이 더 낮다면, 합승을 하지 않아도 된다!!"
   ]
  },
  {
   "cell_type": "markdown",
   "metadata": {},
   "source": [
    "**Solution**\n",
    "\n",
    "- 다익스트라, 플로이드워샬 둘중에 하나로 최단 경로 구하기"
   ]
  },
  {
   "cell_type": "code",
   "execution_count": 1,
   "metadata": {},
   "outputs": [],
   "source": [
    "n = 6\n",
    "s = 4\n",
    "a = 5\n",
    "b = 6\n",
    "fares = [[2,6,6], [6,3,7], [4,6,7], [6,5,11], [2,5,12], [5,3,20], [2,4,8], [4,3,9]]"
   ]
  },
  {
   "cell_type": "code",
   "execution_count": 2,
   "metadata": {},
   "outputs": [],
   "source": [
    "import heapq\n",
    "INF = float('inf')\n",
    "def solution(n, s, a, b, fares):\n",
    "    # 2차원 리스트(그래프 표현)를 만들고, 모든 값을 무한으로 초기화\n",
    "    graph = [[INF] * (n+1) for _ in range(n+1)]\n",
    "\n",
    "    # 자기 자신에서 자기 자신으로 가는 비용은 0으로 초기화\n",
    "    for i in range(1, n+1):\n",
    "        for j in range(1, n+1):\n",
    "            if i == j:\n",
    "                graph[i][j] = 0\n",
    "\n",
    "    # 각 간선에 대한 정보를 입력받아, 그 값으로 초기화\n",
    "    for i, j, c in fares:\n",
    "        # i에서 j로 가는 비용은 c로 설정\n",
    "        graph[i][j] = c\n",
    "        graph[j][i] = c\n",
    "\n",
    "    # 점화식에 따라 플로이드 워셜 알고리즘 수행\n",
    "    for k in range(1, n+1):\n",
    "        for i in range(1, n+1):\n",
    "            for j in range(1, n+1):\n",
    "                graph[i][j] = min(graph[i][j], graph[i][k]+graph[k][j])\n",
    "\n",
    "    ans = INF\n",
    "    for i in range(1, n+1):\n",
    "        charge = graph[s][i] + graph[i][a] + graph[i][b]\n",
    "        ans = min(ans, charge)\n",
    "        \n",
    "    return ans"
   ]
  },
  {
   "cell_type": "code",
   "execution_count": 3,
   "metadata": {},
   "outputs": [
    {
     "data": {
      "text/plain": [
       "18"
      ]
     },
     "execution_count": 3,
     "metadata": {},
     "output_type": "execute_result"
    }
   ],
   "source": [
    "solution(n, s, a, b, fares)"
   ]
  },
  {
   "cell_type": "markdown",
   "metadata": {},
   "source": [
    "# 광고 삽입\n"
   ]
  },
  {
   "cell_type": "markdown",
   "metadata": {},
   "source": [
    "## 문제 설명\n",
    "- 재생 구간 기록\n",
    "- 공익광고가 삽입될 최적의 위치"
   ]
  },
  {
   "cell_type": "markdown",
   "metadata": {},
   "source": [
    "- play_time: 죠르디의 동영상 재생시간 길이\n",
    "- adv_time: 공익광고의 재생시간\n",
    "- logs: 시청자들이 해당 동영상을 재생했떤 구간 정보 (최대 30만)\n",
    "    - H1:M1:S1-H2:M2:S2\n",
    "    - H1:M1:S1(시작시간)\n",
    "    - H2:M2:S2(종료된 시간)\n",
    "- 시청자들의 누적 재생시간이 가장 많이 나오는 곳에 공익광고를 삽입\n",
    "- 누적 재생시간이 가장 많은 곳이 여러개라면, 그 중 가장 빠른 시작 시간을 return"
   ]
  },
  {
   "cell_type": "markdown",
   "metadata": {},
   "source": [
    "## 문제 풀이"
   ]
  },
  {
   "cell_type": "markdown",
   "metadata": {},
   "source": [
    "다른 사람 코드 출처: https://dev-note-97.tistory.com/156#--%--%EB%--%--%EC%A-%--%EB%--%-C%--%EC%-B%-C%EC%B-%AD%EC%-E%--%EC%--%--%EB%A-%BC%--%EB%B-%--%ED%--%--%EC%-C%BC%EB%A-%-C%--%EA%B-%--%EC%-E%A-%--%EC%-B%-C%EC%B-%AD%EC%-E%--%EC%--%--%EA%B-%--%--%EB%A-%-E%EC%-D%--%--%EA%B-%AC%EA%B-%--%--%ED%--%--%EC%--%--"
   ]
  },
  {
   "cell_type": "markdown",
   "metadata": {},
   "source": [
    "1. 모든 시간을 '초'단위로 환산\n",
    "2. logs내의 모든 시간 초로 환산 및 start,end 구분\n",
    "    - all_time[start] += 1, all_time[end] -= 1\n",
    "3. 구간별 시청자수 기록\n",
    "    - all_time[i] = all_time[i] + all_time[i-1]\n",
    "    - (i-1부터 i)까지 1초 동안의 시청자 수\n",
    "4. 모든 구간 시청자 누적 기록\n",
    "    - all_time[i] = all_time[i] + all_time[i-1]\n",
    "    - 0부터 i초 까지의 누적 시청자 수\n",
    "5. 누적된 시청자수를 바탕으로 가장 시청자수가 많은 구간 탐색\n",
    "    - most_view = all_time[i] - all_time[i - adv_time]"
   ]
  },
  {
   "cell_type": "code",
   "execution_count": 90,
   "metadata": {},
   "outputs": [],
   "source": [
    "play_time = \"02:03:55\"\n",
    "adv_time = \"00:14:15\"\n",
    "logs = [\"01:20:15-01:45:14\", \"00:40:31-01:00:00\", \"00:25:50-00:48:29\", \"01:30:59-01:53:29\", \"01:37:44-02:02:30\"]"
   ]
  },
  {
   "cell_type": "code",
   "execution_count": 91,
   "metadata": {},
   "outputs": [],
   "source": [
    "def str_to_int(time):\n",
    "    h, m, s = time.split(':')\n",
    "    return int(h) * 3600 + int(m) * 60 + int(s)"
   ]
  },
  {
   "cell_type": "code",
   "execution_count": 92,
   "metadata": {},
   "outputs": [],
   "source": [
    "def int_to_str(time):\n",
    "    h = time // 3600\n",
    "    h = '0' + str(h) if h < 10 else str(h)\n",
    "    time = time % 3600\n",
    "    m = time // 60\n",
    "    m = '0' + str(m) if m < 10 else str(m)\n",
    "    time = time % 60\n",
    "    s = '0' + str(time) if time < 10 else str(time)\n",
    "    return h + ':' + m + ':' + s"
   ]
  },
  {
   "cell_type": "code",
   "execution_count": 93,
   "metadata": {},
   "outputs": [],
   "source": [
    "def solution(play_time, adv_time, logs):\n",
    "    # 1. 모든 시간을 '초' 단위로 환산\n",
    "    play_time = str_to_int(play_time)\n",
    "    adv_time = str_to_int(adv_time)\n",
    "    all_time = [0 for i in range(play_time+1)] # 현재 시청중인 사람의수(all_time[i]: i시각에 시청중인 사람의 수)\n",
    "    \n",
    "    # 2. logs내의 모든 시간 초로 환산 및 start, end 구분\n",
    "    for log in logs:\n",
    "        start, end = log.split('-')\n",
    "        start = str_to_int(start)\n",
    "        end = str_to_int(end)\n",
    "        all_time[start] += 1\n",
    "        all_time[end] -= 1\n",
    "        \n",
    "    # 3. 구간별 시청자 수 기록\n",
    "    for i in range(1, play_time):\n",
    "        all_time[i] = all_time[i] + all_time[i-1] # i-1부터 i까지 1초동안 시청자 수\n",
    "        \n",
    "    # 4. 모든 구간 시청자 누적 기록: 0부터 i초까지 누적 시청자 수\n",
    "    for i in range(1, play_time):\n",
    "        all_time[i] = all_time[i] + all_time[i-1] # 0부터 i초까지의 누적 시청자 수\n",
    "        \n",
    "    # 5. 누적된 시청자수를 바탕으로 가장 시청자수가 많은 구간 탐색\n",
    "    most_view = 0 # most_view = all_time[i] - all_time[i-adv_time]\n",
    "    max_time = 0\n",
    "    for i in range(adv_time-1, play_time):\n",
    "        if i >= adv_time:\n",
    "            if most_view < all_time[i] - all_time[i-adv_time]:\n",
    "                most_view = all_time[i] - all_time[i-adv_time]\n",
    "                max_time = i - adv_time + 1\n",
    "        else:\n",
    "            if most_view < all_time[i]:\n",
    "                most_view = all_time[i]\n",
    "                max_time = i - adv_time + 1\n",
    "                \n",
    "    return int_to_str(max_time)"
   ]
  },
  {
   "cell_type": "code",
   "execution_count": 94,
   "metadata": {},
   "outputs": [
    {
     "data": {
      "text/plain": [
       "'01:30:59'"
      ]
     },
     "execution_count": 94,
     "metadata": {},
     "output_type": "execute_result"
    }
   ],
   "source": [
    "solution(play_time, adv_time, logs)"
   ]
  },
  {
   "cell_type": "markdown",
   "metadata": {},
   "source": [
    "# 카드 짝 맞추기\n",
    "- ctrl 방향키 부분을 bfs로 어떻게 해야하는지 해결을 못함 ㅠㅠ"
   ]
  },
  {
   "cell_type": "markdown",
   "metadata": {},
   "source": [
    "## 문제 설명"
   ]
  },
  {
   "cell_type": "markdown",
   "metadata": {},
   "source": [
    "- 카드는 커서를 이용해서 선택할 수 있습니다.\n",
    "    - 커서는 4 x 4 화면에서 유저가 선택한 현재 위치를 표시하는 \"굵고 빨간 테두리 상자\"를 의미합니다.\n",
    "- 커서는 [Ctrl] 키와 방향키에 의해 이동되며 키 조작법은 다음과 같습니다.\n",
    "    - 방향키 ←, ↑, ↓, → 중 하나를 누르면, 커서가 누른 키 방향으로 1칸 이동합니다.\n",
    "    - [Ctrl] 키를 누른 상태에서 방향키 ←, ↑, ↓, → 중 하나를 누르면, 누른 키 방향에 있는 가장 가까운 카드로 한번에 이동합니다.\n",
    "        - 만약, 해당 방향에 카드가 하나도 없다면 그 방향의 가장 마지막 칸으로 이동합니다.\n",
    "    - 만약, 누른 키 방향으로 이동 가능한 카드 또는 빈 공간이 없어 이동할 수 없다면 커서는 움직이지 않습니다.\n",
    "- 커서가 위치한 카드를 뒤집기 위해서는 [Enter] 키를 입력합니다.\n",
    "    - [Enter] 키를 입력해서 카드를 뒤집었을 때\n",
    "        - 앞면이 보이는 카드가 1장 뿐이라면 그림을 맞출 수 없으므로 두번째 카드를 뒤집을 때 까지 앞면을 유지합니다.\n",
    "        - 앞면이 보이는 카드가 2장이 된 경우, 두개의 카드에 그려진 그림이 같으면 해당 카드들이 화면에서 사라지며, 그림이 다르다면 두 카드 모두 뒷면이 보이도록 다시 뒤집힙니다."
   ]
  },
  {
   "cell_type": "markdown",
   "metadata": {},
   "source": [
    "남은 카드를 모두 제거하는데 필요한 키 조작 횟수의 최솟값"
   ]
  },
  {
   "cell_type": "markdown",
   "metadata": {},
   "source": [
    "- board: 현재 카드가 놓인 상태\n",
    "- r, c: 처음 위치"
   ]
  },
  {
   "cell_type": "code",
   "execution_count": 112,
   "metadata": {},
   "outputs": [],
   "source": [
    "board = [[1,0,0,3],[2,0,0,0],[0,0,0,2],[3,0,1,0]]\n",
    "r, c = 1, 0"
   ]
  },
  {
   "cell_type": "markdown",
   "metadata": {},
   "source": [
    "**다른 사람 코드**\n",
    "- https://comdoc.tistory.com/entry/2021-KAKAO-BLIND-RECRUITMENT-%EC%B9%B4%EB%93%9C-%EC%A7%9D-%EB%A7%9E%EC%B6%94%EA%B8%B0"
   ]
  },
  {
   "cell_type": "code",
   "execution_count": 108,
   "metadata": {},
   "outputs": [],
   "source": [
    "from collections import deque\n",
    "\n",
    "def solution(board, r, c):\n",
    "    answer = 0\n",
    "    board = ''.join(str(each) for row in board for each in row)\n",
    "    directions = ((1, 0), (-1, 0), (0, 1), (0, -1))\n",
    "    q = deque([(r, c, 0, -1, board)]) # bfs, y, x, count, enter, board\n",
    "    visited = set()\n",
    "    \n",
    "    while q:\n",
    "        y, x, count, enter, board = q.popleft()\n",
    "        if board.count('0') == 16: # 카드를 모두 뒤집으면 return\n",
    "            return count\n",
    "        if (y, x, enter, board) in visited:\n",
    "            continue\n",
    "        visited.add((y, x, enter, board))\n",
    "        \n",
    "        for dx, dy in directions:\n",
    "            nx, ny = x + dx, y + dy \n",
    "            if 0 <= nx < 4 and 0 <= ny < 4:\n",
    "                q.append((ny, nx, count+1, enter, board))\n",
    "            ny, nx = ctrl_move(y, x, dy, dx, board)\n",
    "            if ny == y and nx == x:\n",
    "                continue\n",
    "            q.append((ny, nx, count+1, enter, board))\n",
    "        position = y * 4 + x # enter\n",
    "        \n",
    "        if board[position] != 0:\n",
    "            if enter == -1:\n",
    "                q.append((y, x, count+1, position, board))\n",
    "            elif enter != position and board[enter] == board[position]:\n",
    "                board = board.replace(board[enter], '0')\n",
    "                q.append((y, x, count+1, -1, board))\n",
    "    return answer\n",
    "\n",
    "def ctrl_move(y, x, dy, dx, board):\n",
    "    nx, ny = x + dx, y + dy\n",
    "    if 0 <= ny < 4 and 0 <= nx < 4:\n",
    "        if board[ny*4+nx] == '0':\n",
    "            return ctrl_move(ny, nx, dy, dx, board)\n",
    "        else:\n",
    "            return ny, nx\n",
    "    else:\n",
    "        return y, x"
   ]
  },
  {
   "cell_type": "markdown",
   "metadata": {},
   "source": [
    "**다른 사람 코드**\n",
    "- https://tiktaek.tistory.com/68"
   ]
  },
  {
   "cell_type": "code",
   "execution_count": 109,
   "metadata": {},
   "outputs": [],
   "source": [
    "from collections import defaultdict, deque\n",
    "from itertools import permutations\n",
    "from copy import deepcopy\n",
    "\n",
    "def move_cost(board, start, end):   # 조작 횟수 Count\n",
    "    if start==end: return 0\n",
    "    queue, visit = deque([[start[0], start[1], 0]]), {start}\n",
    "    while queue:                    # BFS\n",
    "        x, y, c = queue.popleft()\n",
    "        for dx, dy in [(0,1),(0,-1),(1,0),(-1,0)]:\n",
    "            nx, ny = x+dx, y+dy     # Normal move\n",
    "            cx, cy = x, y\n",
    "            while True:             # Ctrl + move\n",
    "                cx, cy = cx+dx, cy+dy\n",
    "                if not (0 <= cx <= 3 and 0 <= cy <= 3):\n",
    "                    cx, cy = cx-dx, cy-dy\n",
    "                    break\n",
    "                elif board[cx][cy] != 0:\n",
    "                    break\n",
    "\n",
    "            if (nx, ny) == end or (cx, cy) == end:  # 도착 최단 경로\n",
    "                return c+1\n",
    "\n",
    "            if (0 <= nx <= 3 and 0 <= ny <= 3) and (nx, ny) not in visit:\n",
    "                queue.append((nx, ny, c+1))\n",
    "                visit.add((nx, ny))\n",
    "            if (cx, cy) not in visit:\n",
    "                queue.append((cx, cy, c+1))\n",
    "                visit.add((cx, cy))\n",
    "\n",
    "def cls_cost(board, cdict, curr, order, cost):\n",
    "    if len(order)==0: return cost   # 모든 카드를 확인한 경우\n",
    "    idx = order[0]+1                # 현재 선택해야할 카드의 종류\n",
    "\n",
    "    # 현재위치에서 A1까지의 조작 횟수 + A1->A2까지의 조작 횟수 + 2(카드 선택)\n",
    "    choice1 = move_cost(board, curr, cdict[idx][0]) + move_cost(board, cdict[idx][0], cdict[idx][1]) + 2\n",
    "    choice2 = move_cost(board, curr, cdict[idx][1]) + move_cost(board, cdict[idx][1], cdict[idx][0]) + 2\n",
    "\n",
    "    # 선택한 카드는 board에서 0으로 변경\n",
    "    new_board = deepcopy(board)\n",
    "    new_board[cdict[idx][0][0]][cdict[idx][0][1]] = 0\n",
    "    new_board[cdict[idx][1][0]][cdict[idx][1][1]] = 0\n",
    "\n",
    "    if choice1 < choice2:   # 적은 조작 횟수를 한 경우를 따라 재귀\n",
    "        return cls_cost(new_board, cdict, cdict[idx][1], order[1:], cost + choice1)\n",
    "    else:\n",
    "        return cls_cost(new_board, cdict, cdict[idx][0], order[1:], cost + choice2)\n",
    "\n",
    "def solution(board, r, c):\n",
    "    answer = float('inf')\n",
    "    cdict = defaultdict(list)\n",
    "    for row in range(4):        # 카드의 종류에 따라 좌표 저장\n",
    "        for col in range(4):\n",
    "            num = board[row][col]\n",
    "            if num != 0:\n",
    "                cdict[num].append((row, col))\n",
    "\n",
    "    for case in permutations(range(len(cdict)), len(cdict)):    # 완전 탐색\n",
    "        answer = min(answer, cls_cost(board, cdict, (r, c), case, 0))\n",
    "\n",
    "    return answer"
   ]
  }
 ],
 "metadata": {
  "kernelspec": {
   "display_name": "Python 3",
   "language": "python",
   "name": "python3"
  },
  "language_info": {
   "codemirror_mode": {
    "name": "ipython",
    "version": 3
   },
   "file_extension": ".py",
   "mimetype": "text/x-python",
   "name": "python",
   "nbconvert_exporter": "python",
   "pygments_lexer": "ipython3",
   "version": "3.8.3"
  },
  "toc": {
   "base_numbering": 1,
   "nav_menu": {},
   "number_sections": true,
   "sideBar": true,
   "skip_h1_title": false,
   "title_cell": "Table of Contents",
   "title_sidebar": "Contents",
   "toc_cell": false,
   "toc_position": {
    "height": "calc(100% - 180px)",
    "left": "10px",
    "top": "150px",
    "width": "238.825px"
   },
   "toc_section_display": true,
   "toc_window_display": false
  }
 },
 "nbformat": 4,
 "nbformat_minor": 4
}
