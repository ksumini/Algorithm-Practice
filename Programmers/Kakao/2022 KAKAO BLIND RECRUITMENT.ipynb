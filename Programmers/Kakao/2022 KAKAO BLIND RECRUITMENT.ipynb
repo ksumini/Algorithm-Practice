{
 "cells": [
  {
   "cell_type": "markdown",
   "metadata": {},
   "source": [
    "**카카오 해설**\n",
    "https://tech.kakao.com/2022/01/14/2022-kakao-recruitment-round-1/\n",
    "- 합격 커트라인: 4.5솔"
   ]
  },
  {
   "cell_type": "markdown",
   "metadata": {},
   "source": [
    "1. 구현/문자열/map, set\n",
    "2. 문자열/소수판별(에라토스테네스의 체)\n",
    "3. 문자열 파싱/map\n",
    "4. 완전탐색/백트래킹\n",
    "5. 완전탐색/백트래킹\n",
    "6. 누적 합\n",
    "7. 완전탐색"
   ]
  },
  {
   "cell_type": "markdown",
   "metadata": {},
   "source": [
    "# 신고 결과 받기\n",
    "- https://programmers.co.kr/learn/courses/30/lessons/92334"
   ]
  },
  {
   "cell_type": "markdown",
   "metadata": {},
   "source": [
    "시간 : 15분"
   ]
  },
  {
   "cell_type": "code",
   "execution_count": 24,
   "metadata": {},
   "outputs": [],
   "source": [
    "# id_list = [\"muzi\", \"frodo\", \"apeach\", \"neo\"]\n",
    "id_list = [\"con\", \"ryan\"]\n",
    "# report = [\"muzi frodo\",\"apeach frodo\",\"frodo neo\",\"muzi neo\",\"apeach muzi\"]\n",
    "report = [\"ryan con\", \"ryan con\", \"ryan con\", \"ryan con\"]\n",
    "# k = 2\n",
    "k = 3"
   ]
  },
  {
   "cell_type": "code",
   "execution_count": 25,
   "metadata": {},
   "outputs": [],
   "source": [
    "def solution(id_list, report, k):\n",
    "    # 신고당한 아이디와 신고한 사람\n",
    "    warnings = {name:[] for name in id_list}\n",
    "\n",
    "    for info in report:\n",
    "        reporter, abuser = info.split()\n",
    "        if reporter not in warnings[abuser]:\n",
    "            warnings[abuser].append(reporter)\n",
    "    # 신고 결과\n",
    "    result = {name:0 for name in id_list}\n",
    "    for abuser, reporter in warnings.items():\n",
    "        if len(reporter) >= k:\n",
    "            for i in reporter:\n",
    "                result[i] += 1\n",
    "                \n",
    "    return list(result.values())"
   ]
  },
  {
   "cell_type": "code",
   "execution_count": 26,
   "metadata": {},
   "outputs": [
    {
     "data": {
      "text/plain": [
       "[0, 0]"
      ]
     },
     "execution_count": 26,
     "metadata": {},
     "output_type": "execute_result"
    }
   ],
   "source": [
    "solution(id_list, report, k)"
   ]
  },
  {
   "cell_type": "markdown",
   "metadata": {},
   "source": [
    "**다른 사람 코드**\n",
    "- set을 써서 중복신고는 최대한 여러번 계산 안하게끔 줄임\n",
    "- 신고 결과를 횟수로 받고, 신고 횟수가 k가 넘어가는 유저를 index로 신고자에게 전달함"
   ]
  },
  {
   "cell_type": "code",
   "execution_count": 32,
   "metadata": {},
   "outputs": [],
   "source": [
    "def solution(id_list, report, k):\n",
    "    answer = [0] * len(id_list)    \n",
    "    reports = {x : 0 for x in id_list}\n",
    "\n",
    "    for r in set(report):\n",
    "        reports[r.split()[1]] += 1\n",
    "\n",
    "    for r in set(report):\n",
    "        if reports[r.split()[1]] >= k:\n",
    "            answer[id_list.index(r.split()[0])] += 1\n",
    "\n",
    "    return answer"
   ]
  },
  {
   "cell_type": "markdown",
   "metadata": {},
   "source": [
    "# k진수에서 소수 개수 구하기\n",
    "- https://programmers.co.kr/learn/courses/30/lessons/92335"
   ]
  },
  {
   "cell_type": "markdown",
   "metadata": {},
   "source": [
    "시간 : 1시간 10분"
   ]
  },
  {
   "cell_type": "markdown",
   "metadata": {},
   "source": [
    "## 문제 설명"
   ]
  },
  {
   "cell_type": "markdown",
   "metadata": {},
   "source": [
    "자연수 n -> k진수로 바꿨을때, 변환된 수 안에 아래 조건에 맞는 소수가 몇 개인지\n",
    "- 0P0처럼 소수 양쪽에 0이 있는 경우\n",
    "- P0처럼 소수 오른쪽에만 0이 있고 왼쪽에는 아무것도 없는 경우\n",
    "- 0P처럼 소수 왼쪽에만 0이 있고 오른쪽에는 아무것도 없는 경우\n",
    "- P처럼 소수 양쪽에 아무것도 없는 경우\n",
    "- 단, P는 각 자릿수에 0을 포함하지 않는 소수입니다.\n",
    "    - 예를 들어, 101은 P가 될 수 없습니다."
   ]
  },
  {
   "cell_type": "markdown",
   "metadata": {},
   "source": [
    "n은 최대 100만 -> $(logN)$ or $O(N)$"
   ]
  },
  {
   "cell_type": "markdown",
   "metadata": {},
   "source": [
    "## 문제 풀이\n",
    "\n",
    "**Solution**\n",
    "1. k진수로 바꿔주는 함수 \n",
    "    - 10진수 -> k진수 변환, n진수 -> 10진수 변환 정리 블로그 (https://velog.io/@code_angler/%ED%8C%8C%EC%9D%B4%EC%8D%AC-%EC%A7%84%EC%88%98%EB%B3%80%ED%99%982%EC%A7%84%EB%B2%95-3%EC%A7%84%EB%B2%95-5%EC%A7%84%EB%B2%95-10%EC%A7%84%EB%B2%95n%EC%A7%84%EB%B2%95)\n",
    "2. 소수 판별 함수 (처음에 2부터 n까지 모든 수를 나누다가 시간 초과남)\n",
    "    - n의 제곱근까지만 확인 또는 에라토스테네스의 체를 사용\n",
    "    - 각각의 시간 복잡도: $O(N^\\frac{1}{2})$, $O(NloglogN)$\n",
    "3. 조건 중에 해당하는 것이 있는지 확인하는 함수를 별도로 만듬\n",
    "    - 따로 만들 필요 없이 어차피 .split('0') 과정에서 모든 조건을 확인하게 됨"
   ]
  },
  {
   "cell_type": "code",
   "execution_count": 26,
   "metadata": {},
   "outputs": [],
   "source": [
    "n = 437674\n",
    "k = 3"
   ]
  },
  {
   "cell_type": "code",
   "execution_count": 40,
   "metadata": {},
   "outputs": [],
   "source": [
    "import math\n",
    "\n",
    "# k진수로 바꿔주는 함수\n",
    "def transform(n, k):\n",
    "    rev_base = ''\n",
    "    while n > 0:\n",
    "        n, mod = divmod(n, k)\n",
    "        rev_base += str(mod)\n",
    "    return rev_base[::-1]    # 역순인 진수를 뒤집어 줘야 원래 변환 하고자하는 base가 출력    \n",
    "\n",
    "# 소수 판별 함수(2이상의 자연수에 대하여)\n",
    "def is_prime_number(x):\n",
    "    if x < 2:\n",
    "        return False\n",
    "    for i in range(2, int(math.sqrt(x))+1):\n",
    "        if x % i == 0:\n",
    "            return False # 소수가 아님\n",
    "    return True # 소수임\n",
    "\n",
    "# 조건 중 해당하는 것이 있는 지 확인하는 함수\n",
    "def check(t, num):\n",
    "    # 1. 양쪽에 0이 있는 경우\n",
    "    if '0' + t + '0' in num:\n",
    "        return True\n",
    "    # 2. 오른쪽에만 0이 있는 경우\n",
    "    if num.startswith(t + '0'):\n",
    "        return True\n",
    "    # 3. 왼쪽에만 0이 있는 경우\n",
    "    if num.endswith('0' + t):\n",
    "        return True\n",
    "    # 4. 양쪽에 아무것도 없고 0을 포함하지 않는 경우\n",
    "    if t == num and '0' not in t:\n",
    "        return True\n",
    "\n",
    "def solution(n, k):\n",
    "    ans = 0\n",
    "    num = transform(n, k)\n",
    "    tmp = num.split('0')\n",
    "\n",
    "    for i in tmp:\n",
    "        if i.isdigit() and is_prime_number(int(i)):\n",
    "            if check(i, num):\n",
    "                ans += 1\n",
    "\n",
    "    return ans"
   ]
  },
  {
   "cell_type": "code",
   "execution_count": 41,
   "metadata": {},
   "outputs": [
    {
     "data": {
      "text/plain": [
       "3"
      ]
     },
     "execution_count": 41,
     "metadata": {},
     "output_type": "execute_result"
    }
   ],
   "source": [
    "solution(n, k)"
   ]
  },
  {
   "cell_type": "markdown",
   "metadata": {},
   "source": [
    "**다른 사람 코드**\n",
    "\n",
    "1. k진법으로 변환하는 함수\n",
    "2. 에라토스테네스를 이용한 소수판정\n",
    "3. 바로 split('0')으로 나눠진 수들 소수 판별하고 빈 문자열은 예외처리"
   ]
  },
  {
   "cell_type": "code",
   "execution_count": 39,
   "metadata": {},
   "outputs": [],
   "source": [
    "# n을 k진법으로 나타낸 문자열 반환\n",
    "def conv(n, k):\n",
    "    s = ''\n",
    "    while n:\n",
    "        s += str(n%k)\n",
    "        n //= k\n",
    "    return s[::-1]\n",
    "\n",
    "# n이 소수인지 판정(에라토스테네스의 체)\n",
    "def isprime(n):\n",
    "    if n <= 1: return False\n",
    "    i = 2\n",
    "    while i*i <= n:\n",
    "        if n%i == 0: return False\n",
    "        i += 1\n",
    "    return True\n",
    "\n",
    "def solution(n, k):\n",
    "    s = conv(n,k)\n",
    "    cnt = 0\n",
    "    for num in s.split('0'):\n",
    "        if not num: continue # 빈 문자열에 대한 예외처리\n",
    "        if isprime(int(num)): cnt += 1\n",
    "    return cnt"
   ]
  },
  {
   "cell_type": "markdown",
   "metadata": {},
   "source": [
    "# 주차 요금 계산\n",
    "- https://programmers.co.kr/learn/courses/30/lessons/92341"
   ]
  },
  {
   "cell_type": "markdown",
   "metadata": {},
   "source": [
    "시간: 30분"
   ]
  },
  {
   "cell_type": "markdown",
   "metadata": {},
   "source": [
    "## 문제 설명\n",
    "\n",
    "- 입차, 출차 기록 -> 차량별로 주차 요금 계산"
   ]
  },
  {
   "cell_type": "markdown",
   "metadata": {},
   "source": [
    "## 문제 풀이"
   ]
  },
  {
   "cell_type": "markdown",
   "metadata": {},
   "source": [
    "1. 순서대로 구현하면 됨.\n",
    "2. 라이브러리 사용을 잘해야됨 (datetime을 이용한 시간 차, math.ceil을 이용한 올림)"
   ]
  },
  {
   "cell_type": "code",
   "execution_count": 171,
   "metadata": {},
   "outputs": [],
   "source": [
    "fees = [180, 5000, 10, 600]\n",
    "fees = [120, 0, 60, 591]\n",
    "fees = [1, 461, 1, 10]"
   ]
  },
  {
   "cell_type": "code",
   "execution_count": 173,
   "metadata": {},
   "outputs": [],
   "source": [
    "records = [\"05:34 5961 IN\", \"06:00 0000 IN\", \"06:34 0000 OUT\", \"07:59 5961 OUT\", \"07:59 0148 IN\", \"18:59 0000 IN\", \"19:09 0148 OUT\", \"22:59 5961 IN\", \"23:00 5961 OUT\"]\n",
    "records = [\"16:00 3961 IN\",\"16:00 0202 IN\",\"18:00 3961 OUT\",\"18:00 0202 OUT\",\"23:58 3961 IN\"]\n",
    "records = [\"00:00 1234 IN\"]"
   ]
  },
  {
   "cell_type": "code",
   "execution_count": 166,
   "metadata": {},
   "outputs": [],
   "source": [
    "import math\n",
    "from datetime import datetime\n",
    "\n",
    "def solution(fees, records):\n",
    "    answer = []\n",
    "    \n",
    "    basic_time = fees[0]\n",
    "    basic_fee = fees[1]\n",
    "    unit_time = fees[2]\n",
    "    unit_fee = fees[3]\n",
    "    \n",
    "    # 전체 차량\n",
    "    cars = {}\n",
    "    for record in records:\n",
    "        time, num, status = record.split()\n",
    "        if num not in cars:\n",
    "            cars[num] = []\n",
    "            cars[num].append(time)\n",
    "        else:\n",
    "            cars[num].append(time)\n",
    "            \n",
    "    # 출차 기록이 없으면 23:59에 출차된 것으로 간주\n",
    "    for key, value in cars.items():\n",
    "        if len(value) % 2 != 0:\n",
    "            cars[key].append('23:59')\n",
    "            \n",
    "    cars = sorted(cars.items(), key=lambda x:x[0])\n",
    "    \n",
    "    for car in cars:\n",
    "        total_time = car[1]\n",
    "        minutes = 0\n",
    "        while total_time:\n",
    "            out_time = datetime.strptime(total_time.pop(), '%H:%M')\n",
    "            in_time = datetime.strptime(total_time.pop(), '%H:%M')    \n",
    "            diff = (out_time - in_time).seconds // 60\n",
    "            minutes += diff\n",
    "            \n",
    "        total_fee = 0 # 주차 요금\n",
    "        # 누적 주차 시간\n",
    "        if minutes <= basic_time: # 기본시간 이하 -> 기본 요금\n",
    "            total_fee = basic_fee\n",
    "        else: # 기본 요금 + 단위 요금\n",
    "            total_fee = basic_fee + math.ceil((minutes - basic_time)/unit_time) * unit_fee\n",
    "        \n",
    "        answer.append(total_fee)\n",
    "    return answer"
   ]
  },
  {
   "cell_type": "code",
   "execution_count": 174,
   "metadata": {},
   "outputs": [
    {
     "data": {
      "text/plain": [
       "[14841]"
      ]
     },
     "execution_count": 174,
     "metadata": {},
     "output_type": "execute_result"
    }
   ],
   "source": [
    "solution(fees, records)"
   ]
  },
  {
   "cell_type": "markdown",
   "metadata": {},
   "source": [
    "# 양궁대회"
   ]
  },
  {
   "cell_type": "markdown",
   "metadata": {},
   "source": [
    "1시간 30분 -> 못품"
   ]
  },
  {
   "cell_type": "markdown",
   "metadata": {},
   "source": [
    "## 문제 설명"
   ]
  },
  {
   "cell_type": "markdown",
   "metadata": {},
   "source": [
    "- k점을 여러 발 맞혀도 k점만 가져감!!\n",
    "- 동점일 경우, 어피치가 점수 가져감\n",
    "- 그 외, 라이언\n",
    "- 모든 과녁 점수에 대해 각 선수의 최종 점수\n",
    "    - 최종 점수가 같을 경우 어피치가 승자\n",
    "\n",
    "- n: 화살의 개수\n",
    "- info: 어피치가 맞힌 과녁 점수의 개수"
   ]
  },
  {
   "cell_type": "markdown",
   "metadata": {},
   "source": [
    "## 문제 풀이"
   ]
  },
  {
   "cell_type": "markdown",
   "metadata": {},
   "source": [
    "**Solution**\n",
    "\n",
    "완전탐색, 구현 문제\n",
    "1. DFS\n",
    "2. 중복조합"
   ]
  },
  {
   "cell_type": "code",
   "execution_count": 14,
   "metadata": {},
   "outputs": [],
   "source": [
    "n = 9\n",
    "info = [0,0,1,2,0,1,1,1,1,1,1]"
   ]
  },
  {
   "cell_type": "markdown",
   "metadata": {},
   "source": [
    "**DFS**\n",
    "- 높은 점수부터 시작\n",
    "- 이길 때는 어피치보다 한 발만 더 쏘도록, 질 때는 한발도 쏘지 않도록"
   ]
  },
  {
   "cell_type": "code",
   "execution_count": 15,
   "metadata": {},
   "outputs": [],
   "source": [
    "def solution(n, info):\n",
    "    answer = []                 # 점수 받는 정답 리스트\n",
    "    max_diff = 0          # 가장 많이 차이 나는 점수차\n",
    "\n",
    "    def dfs(idx, remain, apeach, ryan, ans): # 인덱스, 남은 화살 수 , 어피치 점수, 라이언 점수, 점수별 라이언이 쏜 화살 수\n",
    "        nonlocal answer, max_diff\n",
    "\n",
    "        if idx > 10 and remain >= 0:                                    # 모두 반복했고, 화살이 남거나 다 쐈을때\n",
    "            if max_diff <= ryan - apeach:                         # 점수차 최대 이상일때\n",
    "                if remain:                                              # 화살이 모두 남아있을때 모두 0점에 쏜것으로 처리\n",
    "                    ans[-1] += remain  \n",
    "                answer.clear()       \n",
    "                max_diff = ryan - apeach                          # 점수차 새로 기록\n",
    "                answer.append(ans)                                      # 정답에 추가\n",
    "            return\n",
    "        elif remain < 0:                                                # 화살 쏜 횟수 초과시 그냥 종료\n",
    "            return\n",
    "\n",
    "        dfs(idx+1, remain-info[idx]-1, apeach, ryan+(10-idx), ans+[info[idx]+1]) # 이번 점수 이길때\n",
    "        dfs(idx+1, remain, apeach+(10-idx) if info[idx] else apeach, ryan, ans+[0]) # 이번 점수 질때\n",
    "\n",
    "    dfs(0, n, 0, 0, []) \n",
    "\n",
    "    answer = sorted(answer, key=lambda x: list(x[k] for k in range(10, -1, -1)))        # 가장 마지막에 쏜 화살이 적은 순으로 정렬\n",
    "\n",
    "    return answer[-1] if max_diff else [-1]"
   ]
  },
  {
   "cell_type": "code",
   "execution_count": 7,
   "metadata": {},
   "outputs": [
    {
     "data": {
      "text/plain": [
       "[0, 2, 2, 0, 1, 0, 0, 0, 0, 0, 0]"
      ]
     },
     "execution_count": 7,
     "metadata": {},
     "output_type": "execute_result"
    }
   ],
   "source": [
    "solution(n, info)"
   ]
  },
  {
   "cell_type": "markdown",
   "metadata": {},
   "source": [
    "**중복조합**\n",
    "- 11H10 = (11 + 10 – 1) C10 = 20C10 = 184,756으로 모든 경우의 수를 확인하면서 충분히 제한 시간 안에 문제를 해결"
   ]
  },
  {
   "cell_type": "code",
   "execution_count": 458,
   "metadata": {},
   "outputs": [],
   "source": [
    "from itertools import combinations_with_replacement\n",
    "\n",
    "def solution(n, info):\n",
    "    answer = [0] * 11\n",
    "    win = False\n",
    "    max_num = 0   # 라이언이 이길때 가장 큰 점수 차이\n",
    "    # 1. 중복 조합을 이용해 라이언의 점수를 만든다.\n",
    "    for res in list(combinations_with_replacement(range(0, 11), n)): # 라이언이 n발의 화살을 쐈을 때 나올 수 있는 경우의 수\n",
    "        now = [0] * 11 # 라이언의 과녁\n",
    "        for r in res:\n",
    "            now[10 - r] += 1\n",
    "        lion = 0\n",
    "        peach = 0\n",
    "        # 2. 라이언 점수와 어피치 점수 비교한다.\n",
    "        for i, (l, p) in enumerate(zip(now, info)):\n",
    "            if l == p == 0: # 둘다 0점인경우, 아무도 점수 못땀\n",
    "                continue\n",
    "            if p >= l:\n",
    "                peach += (10 - i)\n",
    "            elif l > p:\n",
    "                lion += (10 - i)\n",
    "        # 3. 총 점수를 비교해 라이언이 큰 경우 결과를 업데이트 해준다.\n",
    "        if lion > peach: # 라이언이 이기는 경우\n",
    "            win = True\n",
    "            if (lion - peach) > max_num:\n",
    "                max_num = lion - peach\n",
    "                answer = now\n",
    "    if not win:\n",
    "        return [-1]\n",
    "    return answer"
   ]
  },
  {
   "cell_type": "markdown",
   "metadata": {},
   "source": [
    "# 양과 늑대"
   ]
  },
  {
   "cell_type": "markdown",
   "metadata": {},
   "source": [
    "실패"
   ]
  },
  {
   "cell_type": "markdown",
   "metadata": {},
   "source": [
    "## 문제 설명"
   ]
  },
  {
   "cell_type": "markdown",
   "metadata": {},
   "source": [
    "- 이진트리\n",
    "- 노드: 늑대, 양\n",
    "- 루트노드(양)에서 출발해 양을 모음\n",
    "- 노드를 방문할때마다 양 or 늑대는 나를 따라옴\n",
    "- 늑대의 수 >= 양의수 : 양은 다 먹힘\n",
    "- 최대한 많은 수의 양을 모아서 다시 루트 노드로 돌아오기"
   ]
  },
  {
   "attachments": {
    "image.png": {
     "image/png": "[encoded data removed]"
    }
   },
   "cell_type": "markdown",
   "metadata": {},
   "source": [
    "![image.png](attachment:image.png)"
   ]
  },
  {
   "cell_type": "markdown",
   "metadata": {},
   "source": [
    "- info: 노드의 정보(양0/늑대1)\n",
    "- edges: 이진트리 연결관계(부모, 자식)"
   ]
  },
  {
   "cell_type": "markdown",
   "metadata": {},
   "source": [
    "dfs(현재 노드의 번호, 양의 수, 늑대의 수, 다음으로 방문할 수 있는 노드의 집합)"
   ]
  },
  {
   "cell_type": "code",
   "execution_count": 2,
   "metadata": {},
   "outputs": [],
   "source": [
    "info = [0,0,1,1,1,0,1,0,1,0,1,1]\n",
    "edges = [[0,1],[1,2],[1,4],[0,8],[8,7],[9,10],[9,11],[4,3],[6,5],[4,6],[8,9]]"
   ]
  },
  {
   "cell_type": "code",
   "execution_count": 11,
   "metadata": {},
   "outputs": [],
   "source": [
    "def solution(info, edges):\n",
    "    def next_node(v):\n",
    "        tmp = []\n",
    "        for e in edges:\n",
    "            p, c = e # p: 부모노드, c: 자식노드\n",
    "            if v == p: # 부모노드 번호 비교\n",
    "                tmp.append(c)\n",
    "        return tmp\n",
    "    \n",
    "    def dfs(sheep, wolf, current, path):\n",
    "        # 지금 노드 확인, 양 늑대 판별\n",
    "        if info[current]:\n",
    "            wolf += 1\n",
    "        else:\n",
    "            sheep += 1\n",
    "        # 늑대가 다 잡아먹음, 무시\n",
    "        if sheep <= wolf:\n",
    "            return 0\n",
    "        # 아니라면 임시 변수에 값 갱신\n",
    "        max_sheep = sheep\n",
    "\n",
    "        for p in path:\n",
    "            for n in next_node(p):\n",
    "                if n not in path:\n",
    "                    path.append(n)\n",
    "                    # 최대 양 판별\n",
    "                    max_sheep = max(max_sheep, dfs(sheep, wolf, n, path))\n",
    "                    path.pop()\n",
    "        return max_sheep\n",
    "    \n",
    "    answer = dfs(0,0,0,[0])\n",
    "    \n",
    "    return answer"
   ]
  },
  {
   "cell_type": "code",
   "execution_count": 12,
   "metadata": {},
   "outputs": [
    {
     "data": {
      "text/plain": [
       "5"
      ]
     },
     "execution_count": 12,
     "metadata": {},
     "output_type": "execute_result"
    }
   ],
   "source": [
    "solution(info, edges)"
   ]
  },
  {
   "cell_type": "markdown",
   "metadata": {},
   "source": [
    "# 파괴되지 않은 건물"
   ]
  },
  {
   "cell_type": "markdown",
   "metadata": {},
   "source": [
    "8시 10분 ~ 35분 (정확성)"
   ]
  },
  {
   "cell_type": "markdown",
   "metadata": {},
   "source": [
    "## 문제 설명"
   ]
  },
  {
   "cell_type": "markdown",
   "metadata": {},
   "source": [
    "- board: 건물의 내구도(2차원 배열) - 최대 1000\n",
    "- skill: 공격/회복 스킬 - 최대 25만\n",
    "    - type1: 공격\n",
    "    - type2: 회복\n",
    "- 최종적으로 <u>파괴되지 않은 건물의 개수</u>를 return"
   ]
  },
  {
   "cell_type": "code",
   "execution_count": 144,
   "metadata": {},
   "outputs": [],
   "source": [
    "board = [[5,5,5,5,5],[5,5,5,5,5],[5,5,5,5,5],[5,5,5,5,5]]\n",
    "skill = [[1,0,0,3,4,4],[1,2,0,2,3,2],[2,1,0,3,1,2],[1,0,1,3,3,1]]"
   ]
  },
  {
   "cell_type": "code",
   "execution_count": 145,
   "metadata": {},
   "outputs": [],
   "source": [
    "def solution(board, skill):\n",
    "    for i in skill:\n",
    "        t, r1, c1, r2, c2, degree = i\n",
    "        for i in range(r1, r2+1):\n",
    "            for j in range(c1, c2+1):\n",
    "                board[i][j] += degree if t == 2 else -degree\n",
    "    cnt = 0\n",
    "    for i in range(len(board)):\n",
    "        for j in range(len(board[0])):\n",
    "            if board[i][j] >= 1:\n",
    "                cnt += 1\n",
    "    return cnt"
   ]
  },
  {
   "cell_type": "code",
   "execution_count": 146,
   "metadata": {},
   "outputs": [
    {
     "data": {
      "text/plain": [
       "10"
      ]
     },
     "execution_count": 146,
     "metadata": {},
     "output_type": "execute_result"
    }
   ],
   "source": [
    "solution(board, skill)"
   ]
  },
  {
   "cell_type": "markdown",
   "metadata": {},
   "source": [
    "## 문제 풀이\n",
    "- https://kimjingo.tistory.com/155\n",
    "- https://yiyj1030.tistory.com/489\n",
    "- 비슷한 문제: https://www.acmicpc.net/problem/18246\n",
    "- 누적합을 사용한 풀이\n",
    "- $O(K + N * M)$으로 해결"
   ]
  },
  {
   "cell_type": "code",
   "execution_count": 134,
   "metadata": {},
   "outputs": [],
   "source": [
    "def solution(board, skill):\n",
    "    answer = 0\n",
    "    tmp = [[0] * (len(board[0])+1) for _ in range(len(board)+1)] # 누적합 기록을 위한 배열\n",
    "    \n",
    "    for type, r1, c1, r2, c2, degree in skill:\n",
    "        tmp[r1][c1] += degree if type == 2 else -degree\n",
    "        tmp[r1][c2+1] += -degree if type == 2 else degree\n",
    "        tmp[r2+1][c1] += -degree if type == 2 else degree\n",
    "        tmp[r2+1][c2+1] += degree if type == 2 else -degree\n",
    "        \n",
    "    # 행 기준 누적합\n",
    "    for i in range(len(tmp) - 1):\n",
    "        for j in range(len(tmp[0])-1):\n",
    "            tmp[i][j+1] += tmp[i][j]\n",
    "            \n",
    "    # 열 기준 누적합\n",
    "    for j in range(len(tmp[0]) - 1):\n",
    "        for i in range(len(tmp) - 1):\n",
    "            tmp[i+1][j] += tmp[i][j]\n",
    "            \n",
    "    # 기존 배열과 합함\n",
    "    for i in range(len(board)):\n",
    "        for j in range(len(board[i])):\n",
    "            board[i][j] += tmp[i][j]\n",
    "            if board[i][j] > 0:\n",
    "                answer += 1\n",
    "                \n",
    "    return answer"
   ]
  },
  {
   "cell_type": "markdown",
   "metadata": {},
   "source": [
    "# 사라지는 발판"
   ]
  },
  {
   "cell_type": "code",
   "execution_count": null,
   "metadata": {},
   "outputs": [],
   "source": []
  }
 ],
 "metadata": {
  "kernelspec": {
   "display_name": "Python 3",
   "language": "python",
   "name": "python3"
  },
  "language_info": {
   "codemirror_mode": {
    "name": "ipython",
    "version": 3
   },
   "file_extension": ".py",
   "mimetype": "text/x-python",
   "name": "python",
   "nbconvert_exporter": "python",
   "pygments_lexer": "ipython3",
   "version": "3.8.3"
  },
  "toc": {
   "base_numbering": 1,
   "nav_menu": {},
   "number_sections": true,
   "sideBar": true,
   "skip_h1_title": false,
   "title_cell": "Table of Contents",
   "title_sidebar": "Contents",
   "toc_cell": false,
   "toc_position": {
    "height": "calc(100% - 180px)",
    "left": "10px",
    "top": "150px",
    "width": "165px"
   },
   "toc_section_display": true,
   "toc_window_display": false
  }
 },
 "nbformat": 4,
 "nbformat_minor": 4
}
